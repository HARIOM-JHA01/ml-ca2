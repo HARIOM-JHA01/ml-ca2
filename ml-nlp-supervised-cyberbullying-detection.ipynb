{
 "cells": [
  {
   "cell_type": "code",
   "execution_count": 1,
   "id": "74ca5fcf",
   "metadata": {
    "_cell_guid": "b1076dfc-b9ad-4769-8c92-a6c4dae69d19",
    "_uuid": "8f2839f25d086af736a60e9eeb907d3b93b6e0e5",
    "execution": {
     "iopub.execute_input": "2024-09-05T09:13:55.114765Z",
     "iopub.status.busy": "2024-09-05T09:13:55.114300Z",
     "iopub.status.idle": "2024-09-05T09:13:55.574331Z",
     "shell.execute_reply": "2024-09-05T09:13:55.573093Z"
    },
    "papermill": {
     "duration": 0.481517,
     "end_time": "2024-09-05T09:13:55.577082",
     "exception": false,
     "start_time": "2024-09-05T09:13:55.095565",
     "status": "completed"
    },
    "tags": []
   },
   "outputs": [
    {
     "name": "stdout",
     "output_type": "stream",
     "text": [
      "/kaggle/input/cyber-bullying-data-for-multi-label-classification/Data_Distribution.png\n",
      "/kaggle/input/cyber-bullying-data-for-multi-label-classification/final_hateXplain.csv\n",
      "/kaggle/input/cyber-bullying-data-for-multi-label-classification/hateXplain.csv\n"
     ]
    }
   ],
   "source": [
    "# This Python 3 environment comes with many helpful analytics libraries installed\n",
    "# It is defined by the kaggle/python Docker image: https://github.com/kaggle/docker-python\n",
    "# For example, here's several helpful packages to load\n",
    "\n",
    "import numpy as np # linear algebra\n",
    "import pandas as pd # data processing, CSV file I/O (e.g. pd.read_csv)\n",
    "\n",
    "# Input data files are available in the read-only \"../input/\" directory\n",
    "# For example, running this (by clicking run or pressing Shift+Enter) will list all files under the input directory\n",
    "\n",
    "import os\n",
    "for dirname, _, filenames in os.walk('/kaggle/input'):\n",
    "    for filename in filenames:\n",
    "        print(os.path.join(dirname, filename))\n",
    "\n",
    "# You can write up to 20GB to the current directory (/kaggle/working/) that gets preserved as output when you create a version using \"Save & Run All\" \n",
    "# You can also write temporary files to /kaggle/temp/, but they won't be saved outside of the current session"
   ]
  },
  {
   "cell_type": "markdown",
   "id": "6e889dc6",
   "metadata": {
    "papermill": {
     "duration": 0.015246,
     "end_time": "2024-09-05T09:13:55.608487",
     "exception": false,
     "start_time": "2024-09-05T09:13:55.593241",
     "status": "completed"
    },
    "tags": []
   },
   "source": [
    "# imports"
   ]
  },
  {
   "cell_type": "code",
   "execution_count": 2,
   "id": "42c222ad",
   "metadata": {
    "execution": {
     "iopub.execute_input": "2024-09-05T09:13:55.641907Z",
     "iopub.status.busy": "2024-09-05T09:13:55.641321Z",
     "iopub.status.idle": "2024-09-05T09:14:17.472428Z",
     "shell.execute_reply": "2024-09-05T09:14:17.471092Z"
    },
    "papermill": {
     "duration": 21.851794,
     "end_time": "2024-09-05T09:14:17.475994",
     "exception": false,
     "start_time": "2024-09-05T09:13:55.624200",
     "status": "completed"
    },
    "tags": []
   },
   "outputs": [],
   "source": [
    "import pandas as pd\n",
    "import spacy\n",
    "import matplotlib.pyplot as plt\n",
    "from sklearn.metrics import confusion_matrix, classification_report\n",
    "from sklearn.model_selection import train_test_split\n",
    "import itertools\n",
    "import numpy as np\n",
    "import seaborn as sns\n",
    "import pandas as pd\n",
    "import tensorflow as tf\n",
    "from sklearn.ensemble import RandomForestClassifier\n",
    "from sklearn.neighbors import KNeighborsClassifier\n",
    "import tqdm\n",
    "import nltk\n",
    "from nltk.corpus import stopwords\n",
    "from nltk.stem import WordNetLemmatizer\n",
    "from sklearn.feature_extraction.text import TfidfVectorizer\n",
    "from sklearn.model_selection import cross_val_score\n",
    "from sklearn.metrics import accuracy_score, confusion_matrix, classification_report, ConfusionMatrixDisplay\n",
    "from sklearn.pipeline import Pipeline\n",
    "from sklearn.compose import ColumnTransformer\n",
    "from sklearn.preprocessing import OneHotEncoder"
   ]
  },
  {
   "cell_type": "code",
   "execution_count": 3,
   "id": "f1135877",
   "metadata": {
    "execution": {
     "iopub.execute_input": "2024-09-05T09:14:17.534336Z",
     "iopub.status.busy": "2024-09-05T09:14:17.532944Z",
     "iopub.status.idle": "2024-09-05T09:14:17.698280Z",
     "shell.execute_reply": "2024-09-05T09:14:17.697175Z"
    },
    "papermill": {
     "duration": 0.191957,
     "end_time": "2024-09-05T09:14:17.701044",
     "exception": false,
     "start_time": "2024-09-05T09:14:17.509087",
     "status": "completed"
    },
    "tags": []
   },
   "outputs": [],
   "source": [
    "dataset = pd.read_csv('/kaggle/input/cyber-bullying-data-for-multi-label-classification/final_hateXplain.csv')"
   ]
  },
  {
   "cell_type": "code",
   "execution_count": 4,
   "id": "e9f7d76b",
   "metadata": {
    "execution": {
     "iopub.execute_input": "2024-09-05T09:14:17.735763Z",
     "iopub.status.busy": "2024-09-05T09:14:17.734635Z",
     "iopub.status.idle": "2024-09-05T09:14:17.764053Z",
     "shell.execute_reply": "2024-09-05T09:14:17.762649Z"
    },
    "papermill": {
     "duration": 0.049652,
     "end_time": "2024-09-05T09:14:17.766565",
     "exception": false,
     "start_time": "2024-09-05T09:14:17.716913",
     "status": "completed"
    },
    "tags": []
   },
   "outputs": [
    {
     "data": {
      "text/html": [
       "<div>\n",
       "<style scoped>\n",
       "    .dataframe tbody tr th:only-of-type {\n",
       "        vertical-align: middle;\n",
       "    }\n",
       "\n",
       "    .dataframe tbody tr th {\n",
       "        vertical-align: top;\n",
       "    }\n",
       "\n",
       "    .dataframe thead th {\n",
       "        text-align: right;\n",
       "    }\n",
       "</style>\n",
       "<table border=\"1\" class=\"dataframe\">\n",
       "  <thead>\n",
       "    <tr style=\"text-align: right;\">\n",
       "      <th></th>\n",
       "      <th>comment</th>\n",
       "      <th>label</th>\n",
       "      <th>Race</th>\n",
       "      <th>Religion</th>\n",
       "      <th>Gender</th>\n",
       "      <th>Sexual Orientation</th>\n",
       "      <th>Miscellaneous</th>\n",
       "    </tr>\n",
       "  </thead>\n",
       "  <tbody>\n",
       "    <tr>\n",
       "      <th>0</th>\n",
       "      <td>0 u0 lmao wow fuck you too 😂 😂</td>\n",
       "      <td>normal</td>\n",
       "      <td>No_race</td>\n",
       "      <td>Nonreligious</td>\n",
       "      <td>No_gender</td>\n",
       "      <td>No_orientation</td>\n",
       "      <td>NaN</td>\n",
       "    </tr>\n",
       "    <tr>\n",
       "      <th>1</th>\n",
       "      <td>1 0 th floor maybe wow cnn with the fakenews t...</td>\n",
       "      <td>offensive</td>\n",
       "      <td>No_race</td>\n",
       "      <td>Nonreligious</td>\n",
       "      <td>No_gender</td>\n",
       "      <td>No_orientation</td>\n",
       "      <td>Other</td>\n",
       "    </tr>\n",
       "    <tr>\n",
       "      <th>2</th>\n",
       "      <td>1 0 yrs &lt;number&gt; white women raped by niggers ...</td>\n",
       "      <td>hatespeech</td>\n",
       "      <td>African</td>\n",
       "      <td>Nonreligious</td>\n",
       "      <td>No_gender</td>\n",
       "      <td>No_orientation</td>\n",
       "      <td>NaN</td>\n",
       "    </tr>\n",
       "    <tr>\n",
       "      <th>3</th>\n",
       "      <td>1 2 h ago ching chong accepted your friend req...</td>\n",
       "      <td>offensive</td>\n",
       "      <td>Asian</td>\n",
       "      <td>Nonreligious</td>\n",
       "      <td>No_gender</td>\n",
       "      <td>No_orientation</td>\n",
       "      <td>NaN</td>\n",
       "    </tr>\n",
       "    <tr>\n",
       "      <th>4</th>\n",
       "      <td>1 8 th century mayhem and lawlessness had noth...</td>\n",
       "      <td>normal</td>\n",
       "      <td>No_race</td>\n",
       "      <td>Nonreligious</td>\n",
       "      <td>No_gender</td>\n",
       "      <td>No_orientation</td>\n",
       "      <td>NaN</td>\n",
       "    </tr>\n",
       "  </tbody>\n",
       "</table>\n",
       "</div>"
      ],
      "text/plain": [
       "                                             comment       label     Race  \\\n",
       "0                     0 u0 lmao wow fuck you too 😂 😂      normal  No_race   \n",
       "1  1 0 th floor maybe wow cnn with the fakenews t...   offensive  No_race   \n",
       "2  1 0 yrs <number> white women raped by niggers ...  hatespeech  African   \n",
       "3  1 2 h ago ching chong accepted your friend req...   offensive    Asian   \n",
       "4  1 8 th century mayhem and lawlessness had noth...      normal  No_race   \n",
       "\n",
       "       Religion     Gender Sexual Orientation Miscellaneous  \n",
       "0  Nonreligious  No_gender     No_orientation           NaN  \n",
       "1  Nonreligious  No_gender     No_orientation         Other  \n",
       "2  Nonreligious  No_gender     No_orientation           NaN  \n",
       "3  Nonreligious  No_gender     No_orientation           NaN  \n",
       "4  Nonreligious  No_gender     No_orientation           NaN  "
      ]
     },
     "execution_count": 4,
     "metadata": {},
     "output_type": "execute_result"
    }
   ],
   "source": [
    "dataset.head()"
   ]
  },
  {
   "cell_type": "markdown",
   "id": "948c9066",
   "metadata": {
    "papermill": {
     "duration": 0.016031,
     "end_time": "2024-09-05T09:14:17.801213",
     "exception": false,
     "start_time": "2024-09-05T09:14:17.785182",
     "status": "completed"
    },
    "tags": []
   },
   "source": [
    "# Data cleanind and preprocessing"
   ]
  },
  {
   "cell_type": "code",
   "execution_count": 5,
   "id": "003c7069",
   "metadata": {
    "execution": {
     "iopub.execute_input": "2024-09-05T09:14:17.835323Z",
     "iopub.status.busy": "2024-09-05T09:14:17.834896Z",
     "iopub.status.idle": "2024-09-05T09:14:17.876794Z",
     "shell.execute_reply": "2024-09-05T09:14:17.875604Z"
    },
    "papermill": {
     "duration": 0.061733,
     "end_time": "2024-09-05T09:14:17.879328",
     "exception": false,
     "start_time": "2024-09-05T09:14:17.817595",
     "status": "completed"
    },
    "tags": []
   },
   "outputs": [
    {
     "name": "stdout",
     "output_type": "stream",
     "text": [
      "<class 'pandas.core.frame.DataFrame'>\n",
      "RangeIndex: 20109 entries, 0 to 20108\n",
      "Data columns (total 7 columns):\n",
      " #   Column              Non-Null Count  Dtype \n",
      "---  ------              --------------  ----- \n",
      " 0   comment             20109 non-null  object\n",
      " 1   label               20109 non-null  object\n",
      " 2   Race                20109 non-null  object\n",
      " 3   Religion            20109 non-null  object\n",
      " 4   Gender              20109 non-null  object\n",
      " 5   Sexual Orientation  20109 non-null  object\n",
      " 6   Miscellaneous       3533 non-null   object\n",
      "dtypes: object(7)\n",
      "memory usage: 1.1+ MB\n"
     ]
    }
   ],
   "source": [
    "dataset.info()"
   ]
  },
  {
   "cell_type": "markdown",
   "id": "41017ac4",
   "metadata": {
    "papermill": {
     "duration": 0.015904,
     "end_time": "2024-09-05T09:14:17.911587",
     "exception": false,
     "start_time": "2024-09-05T09:14:17.895683",
     "status": "completed"
    },
    "tags": []
   },
   "source": [
    "# Due to a lot missing data in column : 'Miscellaneous', I will drop that column"
   ]
  },
  {
   "cell_type": "code",
   "execution_count": 6,
   "id": "ebba4347",
   "metadata": {
    "execution": {
     "iopub.execute_input": "2024-09-05T09:14:17.947163Z",
     "iopub.status.busy": "2024-09-05T09:14:17.946087Z",
     "iopub.status.idle": "2024-09-05T09:14:17.956032Z",
     "shell.execute_reply": "2024-09-05T09:14:17.954974Z"
    },
    "papermill": {
     "duration": 0.030351,
     "end_time": "2024-09-05T09:14:17.958496",
     "exception": false,
     "start_time": "2024-09-05T09:14:17.928145",
     "status": "completed"
    },
    "tags": []
   },
   "outputs": [],
   "source": [
    "dataset = dataset.drop(['Miscellaneous'],axis=1)"
   ]
  },
  {
   "cell_type": "code",
   "execution_count": 7,
   "id": "fd84b8e3",
   "metadata": {
    "execution": {
     "iopub.execute_input": "2024-09-05T09:14:17.993866Z",
     "iopub.status.busy": "2024-09-05T09:14:17.992787Z",
     "iopub.status.idle": "2024-09-05T09:14:18.001211Z",
     "shell.execute_reply": "2024-09-05T09:14:17.999935Z"
    },
    "papermill": {
     "duration": 0.029493,
     "end_time": "2024-09-05T09:14:18.004098",
     "exception": false,
     "start_time": "2024-09-05T09:14:17.974605",
     "status": "completed"
    },
    "tags": []
   },
   "outputs": [
    {
     "data": {
      "text/plain": [
       "Index(['comment', 'label', 'Race', 'Religion', 'Gender', 'Sexual Orientation'], dtype='object')"
      ]
     },
     "execution_count": 7,
     "metadata": {},
     "output_type": "execute_result"
    }
   ],
   "source": [
    "dataset.keys()"
   ]
  },
  {
   "cell_type": "markdown",
   "id": "de006e5a",
   "metadata": {
    "papermill": {
     "duration": 0.016275,
     "end_time": "2024-09-05T09:14:18.041593",
     "exception": false,
     "start_time": "2024-09-05T09:14:18.025318",
     "status": "completed"
    },
    "tags": []
   },
   "source": [
    "# Now we will begin the NLP preprocessing on comment column"
   ]
  },
  {
   "cell_type": "markdown",
   "id": "5bb21aa5",
   "metadata": {
    "papermill": {
     "duration": 0.016056,
     "end_time": "2024-09-05T09:14:18.074208",
     "exception": false,
     "start_time": "2024-09-05T09:14:18.058152",
     "status": "completed"
    },
    "tags": []
   },
   "source": [
    "# Tokenization"
   ]
  },
  {
   "cell_type": "code",
   "execution_count": 8,
   "id": "e4e6b575",
   "metadata": {
    "execution": {
     "iopub.execute_input": "2024-09-05T09:14:18.109100Z",
     "iopub.status.busy": "2024-09-05T09:14:18.108443Z",
     "iopub.status.idle": "2024-09-05T09:14:24.141908Z",
     "shell.execute_reply": "2024-09-05T09:14:24.140395Z"
    },
    "papermill": {
     "duration": 6.054149,
     "end_time": "2024-09-05T09:14:24.144780",
     "exception": false,
     "start_time": "2024-09-05T09:14:18.090631",
     "status": "completed"
    },
    "tags": []
   },
   "outputs": [],
   "source": [
    "dataset['comment'] = dataset['comment'].apply(lambda x: nltk.word_tokenize(x))"
   ]
  },
  {
   "cell_type": "code",
   "execution_count": 9,
   "id": "d11095d9",
   "metadata": {
    "execution": {
     "iopub.execute_input": "2024-09-05T09:14:24.180009Z",
     "iopub.status.busy": "2024-09-05T09:14:24.179193Z",
     "iopub.status.idle": "2024-09-05T09:14:24.203018Z",
     "shell.execute_reply": "2024-09-05T09:14:24.201960Z"
    },
    "papermill": {
     "duration": 0.043882,
     "end_time": "2024-09-05T09:14:24.205344",
     "exception": false,
     "start_time": "2024-09-05T09:14:24.161462",
     "status": "completed"
    },
    "tags": []
   },
   "outputs": [
    {
     "data": {
      "text/html": [
       "<div>\n",
       "<style scoped>\n",
       "    .dataframe tbody tr th:only-of-type {\n",
       "        vertical-align: middle;\n",
       "    }\n",
       "\n",
       "    .dataframe tbody tr th {\n",
       "        vertical-align: top;\n",
       "    }\n",
       "\n",
       "    .dataframe thead th {\n",
       "        text-align: right;\n",
       "    }\n",
       "</style>\n",
       "<table border=\"1\" class=\"dataframe\">\n",
       "  <thead>\n",
       "    <tr style=\"text-align: right;\">\n",
       "      <th></th>\n",
       "      <th>comment</th>\n",
       "      <th>label</th>\n",
       "      <th>Race</th>\n",
       "      <th>Religion</th>\n",
       "      <th>Gender</th>\n",
       "      <th>Sexual Orientation</th>\n",
       "    </tr>\n",
       "  </thead>\n",
       "  <tbody>\n",
       "    <tr>\n",
       "      <th>0</th>\n",
       "      <td>[0, u0, lmao, wow, fuck, you, too, 😂, 😂]</td>\n",
       "      <td>normal</td>\n",
       "      <td>No_race</td>\n",
       "      <td>Nonreligious</td>\n",
       "      <td>No_gender</td>\n",
       "      <td>No_orientation</td>\n",
       "    </tr>\n",
       "    <tr>\n",
       "      <th>1</th>\n",
       "      <td>[1, 0, th, floor, maybe, wow, cnn, with, the, ...</td>\n",
       "      <td>offensive</td>\n",
       "      <td>No_race</td>\n",
       "      <td>Nonreligious</td>\n",
       "      <td>No_gender</td>\n",
       "      <td>No_orientation</td>\n",
       "    </tr>\n",
       "    <tr>\n",
       "      <th>2</th>\n",
       "      <td>[1, 0, yrs, &lt;, number, &gt;, white, women, raped,...</td>\n",
       "      <td>hatespeech</td>\n",
       "      <td>African</td>\n",
       "      <td>Nonreligious</td>\n",
       "      <td>No_gender</td>\n",
       "      <td>No_orientation</td>\n",
       "    </tr>\n",
       "    <tr>\n",
       "      <th>3</th>\n",
       "      <td>[1, 2, h, ago, ching, chong, accepted, your, f...</td>\n",
       "      <td>offensive</td>\n",
       "      <td>Asian</td>\n",
       "      <td>Nonreligious</td>\n",
       "      <td>No_gender</td>\n",
       "      <td>No_orientation</td>\n",
       "    </tr>\n",
       "    <tr>\n",
       "      <th>4</th>\n",
       "      <td>[1, 8, th, century, mayhem, and, lawlessness, ...</td>\n",
       "      <td>normal</td>\n",
       "      <td>No_race</td>\n",
       "      <td>Nonreligious</td>\n",
       "      <td>No_gender</td>\n",
       "      <td>No_orientation</td>\n",
       "    </tr>\n",
       "    <tr>\n",
       "      <th>...</th>\n",
       "      <td>...</td>\n",
       "      <td>...</td>\n",
       "      <td>...</td>\n",
       "      <td>...</td>\n",
       "      <td>...</td>\n",
       "      <td>...</td>\n",
       "    </tr>\n",
       "    <tr>\n",
       "      <th>20104</th>\n",
       "      <td>[😂, 😂, 😂, 😂, 😂, y, ’, all, be, so, mad, at, ca...</td>\n",
       "      <td>offensive</td>\n",
       "      <td>African</td>\n",
       "      <td>Nonreligious</td>\n",
       "      <td>No_gender</td>\n",
       "      <td>No_orientation</td>\n",
       "    </tr>\n",
       "    <tr>\n",
       "      <th>20105</th>\n",
       "      <td>[🤔, 🤔, 🤔, 🤔, mmm, yes, the, trebuchet, memes, ...</td>\n",
       "      <td>hatespeech</td>\n",
       "      <td>Arab</td>\n",
       "      <td>Islam</td>\n",
       "      <td>No_gender</td>\n",
       "      <td>No_orientation</td>\n",
       "    </tr>\n",
       "    <tr>\n",
       "      <th>20106</th>\n",
       "      <td>[🤣, this, so, ghetto, i, ’, m, ready, to, get,...</td>\n",
       "      <td>offensive</td>\n",
       "      <td>No_race</td>\n",
       "      <td>Nonreligious</td>\n",
       "      <td>No_gender</td>\n",
       "      <td>No_orientation</td>\n",
       "    </tr>\n",
       "    <tr>\n",
       "      <th>20107</th>\n",
       "      <td>[🤣, 🤣, 😂, 😂, 🤣, 🤣, 😂, 😂, 🤣, 🤣, you, spelled, m...</td>\n",
       "      <td>hatespeech</td>\n",
       "      <td>Arab</td>\n",
       "      <td>Nonreligious</td>\n",
       "      <td>No_gender</td>\n",
       "      <td>No_orientation</td>\n",
       "    </tr>\n",
       "    <tr>\n",
       "      <th>20108</th>\n",
       "      <td>[🤨, hm, six, million, but, yep, they, were, di...</td>\n",
       "      <td>hatespeech</td>\n",
       "      <td>No_race</td>\n",
       "      <td>Jewish</td>\n",
       "      <td>No_gender</td>\n",
       "      <td>No_orientation</td>\n",
       "    </tr>\n",
       "  </tbody>\n",
       "</table>\n",
       "<p>20109 rows × 6 columns</p>\n",
       "</div>"
      ],
      "text/plain": [
       "                                                 comment       label     Race  \\\n",
       "0               [0, u0, lmao, wow, fuck, you, too, 😂, 😂]      normal  No_race   \n",
       "1      [1, 0, th, floor, maybe, wow, cnn, with, the, ...   offensive  No_race   \n",
       "2      [1, 0, yrs, <, number, >, white, women, raped,...  hatespeech  African   \n",
       "3      [1, 2, h, ago, ching, chong, accepted, your, f...   offensive    Asian   \n",
       "4      [1, 8, th, century, mayhem, and, lawlessness, ...      normal  No_race   \n",
       "...                                                  ...         ...      ...   \n",
       "20104  [😂, 😂, 😂, 😂, 😂, y, ’, all, be, so, mad, at, ca...   offensive  African   \n",
       "20105  [🤔, 🤔, 🤔, 🤔, mmm, yes, the, trebuchet, memes, ...  hatespeech     Arab   \n",
       "20106  [🤣, this, so, ghetto, i, ’, m, ready, to, get,...   offensive  No_race   \n",
       "20107  [🤣, 🤣, 😂, 😂, 🤣, 🤣, 😂, 😂, 🤣, 🤣, you, spelled, m...  hatespeech     Arab   \n",
       "20108  [🤨, hm, six, million, but, yep, they, were, di...  hatespeech  No_race   \n",
       "\n",
       "           Religion     Gender Sexual Orientation  \n",
       "0      Nonreligious  No_gender     No_orientation  \n",
       "1      Nonreligious  No_gender     No_orientation  \n",
       "2      Nonreligious  No_gender     No_orientation  \n",
       "3      Nonreligious  No_gender     No_orientation  \n",
       "4      Nonreligious  No_gender     No_orientation  \n",
       "...             ...        ...                ...  \n",
       "20104  Nonreligious  No_gender     No_orientation  \n",
       "20105         Islam  No_gender     No_orientation  \n",
       "20106  Nonreligious  No_gender     No_orientation  \n",
       "20107  Nonreligious  No_gender     No_orientation  \n",
       "20108        Jewish  No_gender     No_orientation  \n",
       "\n",
       "[20109 rows x 6 columns]"
      ]
     },
     "execution_count": 9,
     "metadata": {},
     "output_type": "execute_result"
    }
   ],
   "source": [
    "dataset"
   ]
  },
  {
   "cell_type": "markdown",
   "id": "c210e894",
   "metadata": {
    "papermill": {
     "duration": 0.016696,
     "end_time": "2024-09-05T09:14:24.238782",
     "exception": false,
     "start_time": "2024-09-05T09:14:24.222086",
     "status": "completed"
    },
    "tags": []
   },
   "source": [
    "# removing stopwords"
   ]
  },
  {
   "cell_type": "code",
   "execution_count": 10,
   "id": "86d073b4",
   "metadata": {
    "execution": {
     "iopub.execute_input": "2024-09-05T09:14:24.274336Z",
     "iopub.status.busy": "2024-09-05T09:14:24.273928Z",
     "iopub.status.idle": "2024-09-05T09:14:27.826309Z",
     "shell.execute_reply": "2024-09-05T09:14:27.825252Z"
    },
    "papermill": {
     "duration": 3.5736,
     "end_time": "2024-09-05T09:14:27.829065",
     "exception": false,
     "start_time": "2024-09-05T09:14:24.255465",
     "status": "completed"
    },
    "tags": []
   },
   "outputs": [],
   "source": [
    "def removing_stopwords_in_tokens_list(tokens_list):\n",
    "    stop_words = set(stopwords.words('english'))\n",
    "    filtered_tokens = [word for word in tokens_list if word not in stop_words]\n",
    "    \n",
    "    return filtered_tokens\n",
    "\n",
    "dataset['comment'] = dataset['comment'].apply(lambda tokens_list: removing_stopwords_in_tokens_list(tokens_list))"
   ]
  },
  {
   "cell_type": "code",
   "execution_count": 11,
   "id": "081125a0",
   "metadata": {
    "execution": {
     "iopub.execute_input": "2024-09-05T09:14:27.863944Z",
     "iopub.status.busy": "2024-09-05T09:14:27.863522Z",
     "iopub.status.idle": "2024-09-05T09:14:27.884211Z",
     "shell.execute_reply": "2024-09-05T09:14:27.882944Z"
    },
    "papermill": {
     "duration": 0.041244,
     "end_time": "2024-09-05T09:14:27.887075",
     "exception": false,
     "start_time": "2024-09-05T09:14:27.845831",
     "status": "completed"
    },
    "tags": []
   },
   "outputs": [
    {
     "data": {
      "text/html": [
       "<div>\n",
       "<style scoped>\n",
       "    .dataframe tbody tr th:only-of-type {\n",
       "        vertical-align: middle;\n",
       "    }\n",
       "\n",
       "    .dataframe tbody tr th {\n",
       "        vertical-align: top;\n",
       "    }\n",
       "\n",
       "    .dataframe thead th {\n",
       "        text-align: right;\n",
       "    }\n",
       "</style>\n",
       "<table border=\"1\" class=\"dataframe\">\n",
       "  <thead>\n",
       "    <tr style=\"text-align: right;\">\n",
       "      <th></th>\n",
       "      <th>comment</th>\n",
       "      <th>label</th>\n",
       "      <th>Race</th>\n",
       "      <th>Religion</th>\n",
       "      <th>Gender</th>\n",
       "      <th>Sexual Orientation</th>\n",
       "    </tr>\n",
       "  </thead>\n",
       "  <tbody>\n",
       "    <tr>\n",
       "      <th>0</th>\n",
       "      <td>[0, u0, lmao, wow, fuck, 😂, 😂]</td>\n",
       "      <td>normal</td>\n",
       "      <td>No_race</td>\n",
       "      <td>Nonreligious</td>\n",
       "      <td>No_gender</td>\n",
       "      <td>No_orientation</td>\n",
       "    </tr>\n",
       "    <tr>\n",
       "      <th>1</th>\n",
       "      <td>[1, 0, th, floor, maybe, wow, cnn, fakenews, b...</td>\n",
       "      <td>offensive</td>\n",
       "      <td>No_race</td>\n",
       "      <td>Nonreligious</td>\n",
       "      <td>No_gender</td>\n",
       "      <td>No_orientation</td>\n",
       "    </tr>\n",
       "    <tr>\n",
       "      <th>2</th>\n",
       "      <td>[1, 0, yrs, &lt;, number, &gt;, white, women, raped,...</td>\n",
       "      <td>hatespeech</td>\n",
       "      <td>African</td>\n",
       "      <td>Nonreligious</td>\n",
       "      <td>No_gender</td>\n",
       "      <td>No_orientation</td>\n",
       "    </tr>\n",
       "    <tr>\n",
       "      <th>3</th>\n",
       "      <td>[1, 2, h, ago, ching, chong, accepted, friend,...</td>\n",
       "      <td>offensive</td>\n",
       "      <td>Asian</td>\n",
       "      <td>Nonreligious</td>\n",
       "      <td>No_gender</td>\n",
       "      <td>No_orientation</td>\n",
       "    </tr>\n",
       "    <tr>\n",
       "      <th>4</th>\n",
       "      <td>[1, 8, th, century, mayhem, lawlessness, nothi...</td>\n",
       "      <td>normal</td>\n",
       "      <td>No_race</td>\n",
       "      <td>Nonreligious</td>\n",
       "      <td>No_gender</td>\n",
       "      <td>No_orientation</td>\n",
       "    </tr>\n",
       "    <tr>\n",
       "      <th>...</th>\n",
       "      <td>...</td>\n",
       "      <td>...</td>\n",
       "      <td>...</td>\n",
       "      <td>...</td>\n",
       "      <td>...</td>\n",
       "      <td>...</td>\n",
       "    </tr>\n",
       "    <tr>\n",
       "      <th>20104</th>\n",
       "      <td>[😂, 😂, 😂, 😂, 😂, ’, mad, caucasians, failing, f...</td>\n",
       "      <td>offensive</td>\n",
       "      <td>African</td>\n",
       "      <td>Nonreligious</td>\n",
       "      <td>No_gender</td>\n",
       "      <td>No_orientation</td>\n",
       "    </tr>\n",
       "    <tr>\n",
       "      <th>20105</th>\n",
       "      <td>[🤔, 🤔, 🤔, 🤔, mmm, yes, trebuchet, memes, much,...</td>\n",
       "      <td>hatespeech</td>\n",
       "      <td>Arab</td>\n",
       "      <td>Islam</td>\n",
       "      <td>No_gender</td>\n",
       "      <td>No_orientation</td>\n",
       "    </tr>\n",
       "    <tr>\n",
       "      <th>20106</th>\n",
       "      <td>[🤣, ghetto, ’, ready, get, tf]</td>\n",
       "      <td>offensive</td>\n",
       "      <td>No_race</td>\n",
       "      <td>Nonreligious</td>\n",
       "      <td>No_gender</td>\n",
       "      <td>No_orientation</td>\n",
       "    </tr>\n",
       "    <tr>\n",
       "      <th>20107</th>\n",
       "      <td>[🤣, 🤣, 😂, 😂, 🤣, 🤣, 😂, 😂, 🤣, 🤣, spelled, name, ...</td>\n",
       "      <td>hatespeech</td>\n",
       "      <td>Arab</td>\n",
       "      <td>Nonreligious</td>\n",
       "      <td>No_gender</td>\n",
       "      <td>No_orientation</td>\n",
       "    </tr>\n",
       "    <tr>\n",
       "      <th>20108</th>\n",
       "      <td>[🤨, hm, six, million, yep, disarmed, ceppin, o...</td>\n",
       "      <td>hatespeech</td>\n",
       "      <td>No_race</td>\n",
       "      <td>Jewish</td>\n",
       "      <td>No_gender</td>\n",
       "      <td>No_orientation</td>\n",
       "    </tr>\n",
       "  </tbody>\n",
       "</table>\n",
       "<p>20109 rows × 6 columns</p>\n",
       "</div>"
      ],
      "text/plain": [
       "                                                 comment       label     Race  \\\n",
       "0                         [0, u0, lmao, wow, fuck, 😂, 😂]      normal  No_race   \n",
       "1      [1, 0, th, floor, maybe, wow, cnn, fakenews, b...   offensive  No_race   \n",
       "2      [1, 0, yrs, <, number, >, white, women, raped,...  hatespeech  African   \n",
       "3      [1, 2, h, ago, ching, chong, accepted, friend,...   offensive    Asian   \n",
       "4      [1, 8, th, century, mayhem, lawlessness, nothi...      normal  No_race   \n",
       "...                                                  ...         ...      ...   \n",
       "20104  [😂, 😂, 😂, 😂, 😂, ’, mad, caucasians, failing, f...   offensive  African   \n",
       "20105  [🤔, 🤔, 🤔, 🤔, mmm, yes, trebuchet, memes, much,...  hatespeech     Arab   \n",
       "20106                     [🤣, ghetto, ’, ready, get, tf]   offensive  No_race   \n",
       "20107  [🤣, 🤣, 😂, 😂, 🤣, 🤣, 😂, 😂, 🤣, 🤣, spelled, name, ...  hatespeech     Arab   \n",
       "20108  [🤨, hm, six, million, yep, disarmed, ceppin, o...  hatespeech  No_race   \n",
       "\n",
       "           Religion     Gender Sexual Orientation  \n",
       "0      Nonreligious  No_gender     No_orientation  \n",
       "1      Nonreligious  No_gender     No_orientation  \n",
       "2      Nonreligious  No_gender     No_orientation  \n",
       "3      Nonreligious  No_gender     No_orientation  \n",
       "4      Nonreligious  No_gender     No_orientation  \n",
       "...             ...        ...                ...  \n",
       "20104  Nonreligious  No_gender     No_orientation  \n",
       "20105         Islam  No_gender     No_orientation  \n",
       "20106  Nonreligious  No_gender     No_orientation  \n",
       "20107  Nonreligious  No_gender     No_orientation  \n",
       "20108        Jewish  No_gender     No_orientation  \n",
       "\n",
       "[20109 rows x 6 columns]"
      ]
     },
     "execution_count": 11,
     "metadata": {},
     "output_type": "execute_result"
    }
   ],
   "source": [
    "dataset"
   ]
  },
  {
   "cell_type": "markdown",
   "id": "8722da3e",
   "metadata": {
    "papermill": {
     "duration": 0.016567,
     "end_time": "2024-09-05T09:14:27.920815",
     "exception": false,
     "start_time": "2024-09-05T09:14:27.904248",
     "status": "completed"
    },
    "tags": []
   },
   "source": [
    "# as we can see there are lot digits with string data, we will remove them. Not sucessfull with this step"
   ]
  },
  {
   "cell_type": "code",
   "execution_count": 12,
   "id": "02bbd0f4",
   "metadata": {
    "execution": {
     "iopub.execute_input": "2024-09-05T09:14:27.956568Z",
     "iopub.status.busy": "2024-09-05T09:14:27.956097Z",
     "iopub.status.idle": "2024-09-05T09:14:27.962749Z",
     "shell.execute_reply": "2024-09-05T09:14:27.961671Z"
    },
    "papermill": {
     "duration": 0.027544,
     "end_time": "2024-09-05T09:14:27.965240",
     "exception": false,
     "start_time": "2024-09-05T09:14:27.937696",
     "status": "completed"
    },
    "tags": []
   },
   "outputs": [],
   "source": [
    "def removing_digits_in_tokens_list(tokens_list):\n",
    "    token_filtered = []\n",
    "    for token in tokens_list:\n",
    "        result = ''.join([i for i in token if not i.isdigit()])\n",
    "        if result:  # Ne garde que les tokens non vides\n",
    "            token_filtered.append(result)\n",
    "    \n",
    "    return token_filtered"
   ]
  },
  {
   "cell_type": "code",
   "execution_count": 13,
   "id": "ba2eac9e",
   "metadata": {
    "execution": {
     "iopub.execute_input": "2024-09-05T09:14:28.000836Z",
     "iopub.status.busy": "2024-09-05T09:14:28.000376Z",
     "iopub.status.idle": "2024-09-05T09:14:28.007660Z",
     "shell.execute_reply": "2024-09-05T09:14:28.006547Z"
    },
    "papermill": {
     "duration": 0.028057,
     "end_time": "2024-09-05T09:14:28.010127",
     "exception": false,
     "start_time": "2024-09-05T09:14:27.982070",
     "status": "completed"
    },
    "tags": []
   },
   "outputs": [
    {
     "data": {
      "text/plain": [
       "[', u, lmao, wow, fuck, 😂, 😂']"
      ]
     },
     "execution_count": 13,
     "metadata": {},
     "output_type": "execute_result"
    }
   ],
   "source": [
    "list = ['0, u0, lmao, wow, fuck, 😂, 😂']\n",
    "removing_digits_in_tokens_list(list)"
   ]
  },
  {
   "cell_type": "code",
   "execution_count": 14,
   "id": "67775eaa",
   "metadata": {
    "execution": {
     "iopub.execute_input": "2024-09-05T09:14:28.046767Z",
     "iopub.status.busy": "2024-09-05T09:14:28.045681Z",
     "iopub.status.idle": "2024-09-05T09:14:28.563663Z",
     "shell.execute_reply": "2024-09-05T09:14:28.562735Z"
    },
    "papermill": {
     "duration": 0.539097,
     "end_time": "2024-09-05T09:14:28.566255",
     "exception": false,
     "start_time": "2024-09-05T09:14:28.027158",
     "status": "completed"
    },
    "tags": []
   },
   "outputs": [],
   "source": [
    "dataset['comment'] = dataset['comment'].apply(lambda tokens:removing_digits_in_tokens_list(tokens))"
   ]
  },
  {
   "cell_type": "code",
   "execution_count": 15,
   "id": "f071c58a",
   "metadata": {
    "execution": {
     "iopub.execute_input": "2024-09-05T09:14:28.602423Z",
     "iopub.status.busy": "2024-09-05T09:14:28.601986Z",
     "iopub.status.idle": "2024-09-05T09:14:28.622671Z",
     "shell.execute_reply": "2024-09-05T09:14:28.621583Z"
    },
    "papermill": {
     "duration": 0.041831,
     "end_time": "2024-09-05T09:14:28.625262",
     "exception": false,
     "start_time": "2024-09-05T09:14:28.583431",
     "status": "completed"
    },
    "tags": []
   },
   "outputs": [
    {
     "data": {
      "text/html": [
       "<div>\n",
       "<style scoped>\n",
       "    .dataframe tbody tr th:only-of-type {\n",
       "        vertical-align: middle;\n",
       "    }\n",
       "\n",
       "    .dataframe tbody tr th {\n",
       "        vertical-align: top;\n",
       "    }\n",
       "\n",
       "    .dataframe thead th {\n",
       "        text-align: right;\n",
       "    }\n",
       "</style>\n",
       "<table border=\"1\" class=\"dataframe\">\n",
       "  <thead>\n",
       "    <tr style=\"text-align: right;\">\n",
       "      <th></th>\n",
       "      <th>comment</th>\n",
       "      <th>label</th>\n",
       "      <th>Race</th>\n",
       "      <th>Religion</th>\n",
       "      <th>Gender</th>\n",
       "      <th>Sexual Orientation</th>\n",
       "    </tr>\n",
       "  </thead>\n",
       "  <tbody>\n",
       "    <tr>\n",
       "      <th>0</th>\n",
       "      <td>[u, lmao, wow, fuck, 😂, 😂]</td>\n",
       "      <td>normal</td>\n",
       "      <td>No_race</td>\n",
       "      <td>Nonreligious</td>\n",
       "      <td>No_gender</td>\n",
       "      <td>No_orientation</td>\n",
       "    </tr>\n",
       "    <tr>\n",
       "      <th>1</th>\n",
       "      <td>[th, floor, maybe, wow, cnn, fakenews, body, c...</td>\n",
       "      <td>offensive</td>\n",
       "      <td>No_race</td>\n",
       "      <td>Nonreligious</td>\n",
       "      <td>No_gender</td>\n",
       "      <td>No_orientation</td>\n",
       "    </tr>\n",
       "    <tr>\n",
       "      <th>2</th>\n",
       "      <td>[yrs, &lt;, number, &gt;, white, women, raped, nigge...</td>\n",
       "      <td>hatespeech</td>\n",
       "      <td>African</td>\n",
       "      <td>Nonreligious</td>\n",
       "      <td>No_gender</td>\n",
       "      <td>No_orientation</td>\n",
       "    </tr>\n",
       "    <tr>\n",
       "      <th>3</th>\n",
       "      <td>[h, ago, ching, chong, accepted, friend, reque...</td>\n",
       "      <td>offensive</td>\n",
       "      <td>Asian</td>\n",
       "      <td>Nonreligious</td>\n",
       "      <td>No_gender</td>\n",
       "      <td>No_orientation</td>\n",
       "    </tr>\n",
       "    <tr>\n",
       "      <th>4</th>\n",
       "      <td>[th, century, mayhem, lawlessness, nothing, lo...</td>\n",
       "      <td>normal</td>\n",
       "      <td>No_race</td>\n",
       "      <td>Nonreligious</td>\n",
       "      <td>No_gender</td>\n",
       "      <td>No_orientation</td>\n",
       "    </tr>\n",
       "    <tr>\n",
       "      <th>...</th>\n",
       "      <td>...</td>\n",
       "      <td>...</td>\n",
       "      <td>...</td>\n",
       "      <td>...</td>\n",
       "      <td>...</td>\n",
       "      <td>...</td>\n",
       "    </tr>\n",
       "    <tr>\n",
       "      <th>20104</th>\n",
       "      <td>[😂, 😂, 😂, 😂, 😂, ’, mad, caucasians, failing, f...</td>\n",
       "      <td>offensive</td>\n",
       "      <td>African</td>\n",
       "      <td>Nonreligious</td>\n",
       "      <td>No_gender</td>\n",
       "      <td>No_orientation</td>\n",
       "    </tr>\n",
       "    <tr>\n",
       "      <th>20105</th>\n",
       "      <td>[🤔, 🤔, 🤔, 🤔, mmm, yes, trebuchet, memes, much,...</td>\n",
       "      <td>hatespeech</td>\n",
       "      <td>Arab</td>\n",
       "      <td>Islam</td>\n",
       "      <td>No_gender</td>\n",
       "      <td>No_orientation</td>\n",
       "    </tr>\n",
       "    <tr>\n",
       "      <th>20106</th>\n",
       "      <td>[🤣, ghetto, ’, ready, get, tf]</td>\n",
       "      <td>offensive</td>\n",
       "      <td>No_race</td>\n",
       "      <td>Nonreligious</td>\n",
       "      <td>No_gender</td>\n",
       "      <td>No_orientation</td>\n",
       "    </tr>\n",
       "    <tr>\n",
       "      <th>20107</th>\n",
       "      <td>[🤣, 🤣, 😂, 😂, 🤣, 🤣, 😂, 😂, 🤣, 🤣, spelled, name, ...</td>\n",
       "      <td>hatespeech</td>\n",
       "      <td>Arab</td>\n",
       "      <td>Nonreligious</td>\n",
       "      <td>No_gender</td>\n",
       "      <td>No_orientation</td>\n",
       "    </tr>\n",
       "    <tr>\n",
       "      <th>20108</th>\n",
       "      <td>[🤨, hm, six, million, yep, disarmed, ceppin, o...</td>\n",
       "      <td>hatespeech</td>\n",
       "      <td>No_race</td>\n",
       "      <td>Jewish</td>\n",
       "      <td>No_gender</td>\n",
       "      <td>No_orientation</td>\n",
       "    </tr>\n",
       "  </tbody>\n",
       "</table>\n",
       "<p>20109 rows × 6 columns</p>\n",
       "</div>"
      ],
      "text/plain": [
       "                                                 comment       label     Race  \\\n",
       "0                             [u, lmao, wow, fuck, 😂, 😂]      normal  No_race   \n",
       "1      [th, floor, maybe, wow, cnn, fakenews, body, c...   offensive  No_race   \n",
       "2      [yrs, <, number, >, white, women, raped, nigge...  hatespeech  African   \n",
       "3      [h, ago, ching, chong, accepted, friend, reque...   offensive    Asian   \n",
       "4      [th, century, mayhem, lawlessness, nothing, lo...      normal  No_race   \n",
       "...                                                  ...         ...      ...   \n",
       "20104  [😂, 😂, 😂, 😂, 😂, ’, mad, caucasians, failing, f...   offensive  African   \n",
       "20105  [🤔, 🤔, 🤔, 🤔, mmm, yes, trebuchet, memes, much,...  hatespeech     Arab   \n",
       "20106                     [🤣, ghetto, ’, ready, get, tf]   offensive  No_race   \n",
       "20107  [🤣, 🤣, 😂, 😂, 🤣, 🤣, 😂, 😂, 🤣, 🤣, spelled, name, ...  hatespeech     Arab   \n",
       "20108  [🤨, hm, six, million, yep, disarmed, ceppin, o...  hatespeech  No_race   \n",
       "\n",
       "           Religion     Gender Sexual Orientation  \n",
       "0      Nonreligious  No_gender     No_orientation  \n",
       "1      Nonreligious  No_gender     No_orientation  \n",
       "2      Nonreligious  No_gender     No_orientation  \n",
       "3      Nonreligious  No_gender     No_orientation  \n",
       "4      Nonreligious  No_gender     No_orientation  \n",
       "...             ...        ...                ...  \n",
       "20104  Nonreligious  No_gender     No_orientation  \n",
       "20105         Islam  No_gender     No_orientation  \n",
       "20106  Nonreligious  No_gender     No_orientation  \n",
       "20107  Nonreligious  No_gender     No_orientation  \n",
       "20108        Jewish  No_gender     No_orientation  \n",
       "\n",
       "[20109 rows x 6 columns]"
      ]
     },
     "execution_count": 15,
     "metadata": {},
     "output_type": "execute_result"
    }
   ],
   "source": [
    "dataset"
   ]
  },
  {
   "cell_type": "markdown",
   "id": "204b151f",
   "metadata": {
    "papermill": {
     "duration": 0.01722,
     "end_time": "2024-09-05T09:14:28.660139",
     "exception": false,
     "start_time": "2024-09-05T09:14:28.642919",
     "status": "completed"
    },
    "tags": []
   },
   "source": [
    "# lemmatize the text"
   ]
  },
  {
   "cell_type": "code",
   "execution_count": 16,
   "id": "324c0c3b",
   "metadata": {
    "execution": {
     "iopub.execute_input": "2024-09-05T09:14:28.697287Z",
     "iopub.status.busy": "2024-09-05T09:14:28.696441Z",
     "iopub.status.idle": "2024-09-05T09:14:29.078337Z",
     "shell.execute_reply": "2024-09-05T09:14:29.077185Z"
    },
    "papermill": {
     "duration": 0.403049,
     "end_time": "2024-09-05T09:14:29.080672",
     "exception": false,
     "start_time": "2024-09-05T09:14:28.677623",
     "status": "completed"
    },
    "tags": []
   },
   "outputs": [
    {
     "name": "stdout",
     "output_type": "stream",
     "text": [
      "[nltk_data] Downloading package wordnet to /usr/share/nltk_data...\n",
      "[nltk_data]   Package wordnet is already up-to-date!\n",
      "[nltk_data] Downloading package omw-1.4 to /usr/share/nltk_data...\n"
     ]
    },
    {
     "data": {
      "text/plain": [
       "True"
      ]
     },
     "execution_count": 16,
     "metadata": {},
     "output_type": "execute_result"
    }
   ],
   "source": [
    "# Télécharger les ressources nécessaires\n",
    "nltk.download('wordnet')  # Télécharger WordNet pour la lemmatisation\n",
    "nltk.download('omw-1.4')  # Télécharger les données supplémentaires pour WordNet"
   ]
  },
  {
   "cell_type": "code",
   "execution_count": 17,
   "id": "a7302e88",
   "metadata": {
    "execution": {
     "iopub.execute_input": "2024-09-05T09:14:29.119444Z",
     "iopub.status.busy": "2024-09-05T09:14:29.118455Z",
     "iopub.status.idle": "2024-09-05T09:14:30.647796Z",
     "shell.execute_reply": "2024-09-05T09:14:30.646353Z"
    },
    "papermill": {
     "duration": 1.552248,
     "end_time": "2024-09-05T09:14:30.650683",
     "exception": false,
     "start_time": "2024-09-05T09:14:29.098435",
     "status": "completed"
    },
    "tags": []
   },
   "outputs": [
    {
     "name": "stdout",
     "output_type": "stream",
     "text": [
      "Archive:  /usr/share/nltk_data/corpora/wordnet.zip\r\n",
      "   creating: /usr/share/nltk_data/corpora/wordnet/\r\n",
      "  inflating: /usr/share/nltk_data/corpora/wordnet/lexnames  \r\n",
      "  inflating: /usr/share/nltk_data/corpora/wordnet/data.verb  \r\n",
      "  inflating: /usr/share/nltk_data/corpora/wordnet/index.adv  \r\n",
      "  inflating: /usr/share/nltk_data/corpora/wordnet/adv.exc  \r\n",
      "  inflating: /usr/share/nltk_data/corpora/wordnet/index.verb  \r\n",
      "  inflating: /usr/share/nltk_data/corpora/wordnet/cntlist.rev  \r\n",
      "  inflating: /usr/share/nltk_data/corpora/wordnet/data.adj  \r\n",
      "  inflating: /usr/share/nltk_data/corpora/wordnet/index.adj  \r\n",
      "  inflating: /usr/share/nltk_data/corpora/wordnet/LICENSE  \r\n",
      "  inflating: /usr/share/nltk_data/corpora/wordnet/citation.bib  \r\n",
      "  inflating: /usr/share/nltk_data/corpora/wordnet/noun.exc  \r\n",
      "  inflating: /usr/share/nltk_data/corpora/wordnet/verb.exc  \r\n",
      "  inflating: /usr/share/nltk_data/corpora/wordnet/README  \r\n",
      "  inflating: /usr/share/nltk_data/corpora/wordnet/index.sense  \r\n",
      "  inflating: /usr/share/nltk_data/corpora/wordnet/data.noun  \r\n",
      "  inflating: /usr/share/nltk_data/corpora/wordnet/data.adv  \r\n",
      "  inflating: /usr/share/nltk_data/corpora/wordnet/index.noun  \r\n",
      "  inflating: /usr/share/nltk_data/corpora/wordnet/adj.exc  \r\n"
     ]
    }
   ],
   "source": [
    "!unzip /usr/share/nltk_data/corpora/wordnet.zip -d /usr/share/nltk_data/corpora/"
   ]
  },
  {
   "cell_type": "code",
   "execution_count": 18,
   "id": "0612792a",
   "metadata": {
    "execution": {
     "iopub.execute_input": "2024-09-05T09:14:30.694925Z",
     "iopub.status.busy": "2024-09-05T09:14:30.694438Z",
     "iopub.status.idle": "2024-09-05T09:14:30.700750Z",
     "shell.execute_reply": "2024-09-05T09:14:30.699639Z"
    },
    "papermill": {
     "duration": 0.031004,
     "end_time": "2024-09-05T09:14:30.703010",
     "exception": false,
     "start_time": "2024-09-05T09:14:30.672006",
     "status": "completed"
    },
    "tags": []
   },
   "outputs": [],
   "source": [
    "lemmatizer = WordNetLemmatizer()\n",
    "def lemmatize_tokens(tokens_list):\n",
    "    filtered_tokens = []\n",
    "    for token in tokens_list:\n",
    "        lemmatized_token = lemmatizer.lemmatize(token)\n",
    "        filtered_tokens.append(lemmatized_token)\n",
    "        \n",
    "    return filtered_tokens"
   ]
  },
  {
   "cell_type": "code",
   "execution_count": 19,
   "id": "0925227a",
   "metadata": {
    "execution": {
     "iopub.execute_input": "2024-09-05T09:14:30.741605Z",
     "iopub.status.busy": "2024-09-05T09:14:30.741204Z",
     "iopub.status.idle": "2024-09-05T09:14:33.221284Z",
     "shell.execute_reply": "2024-09-05T09:14:33.220237Z"
    },
    "papermill": {
     "duration": 2.502563,
     "end_time": "2024-09-05T09:14:33.223928",
     "exception": false,
     "start_time": "2024-09-05T09:14:30.721365",
     "status": "completed"
    },
    "tags": []
   },
   "outputs": [
    {
     "data": {
      "text/plain": [
       "['rock', 'corpus', 'better']"
      ]
     },
     "execution_count": 19,
     "metadata": {},
     "output_type": "execute_result"
    }
   ],
   "source": [
    "list = ['rock','corpora','better']\n",
    "lemmatize_tokens(list)"
   ]
  },
  {
   "cell_type": "code",
   "execution_count": 20,
   "id": "72129555",
   "metadata": {
    "execution": {
     "iopub.execute_input": "2024-09-05T09:14:33.262530Z",
     "iopub.status.busy": "2024-09-05T09:14:33.262096Z",
     "iopub.status.idle": "2024-09-05T09:14:35.347163Z",
     "shell.execute_reply": "2024-09-05T09:14:35.346110Z"
    },
    "papermill": {
     "duration": 2.107586,
     "end_time": "2024-09-05T09:14:35.349859",
     "exception": false,
     "start_time": "2024-09-05T09:14:33.242273",
     "status": "completed"
    },
    "tags": []
   },
   "outputs": [],
   "source": [
    "dataset['comment'] = dataset['comment'].apply(lambda x:lemmatize_tokens(x))"
   ]
  },
  {
   "cell_type": "code",
   "execution_count": 21,
   "id": "eaaf8792",
   "metadata": {
    "execution": {
     "iopub.execute_input": "2024-09-05T09:14:35.390530Z",
     "iopub.status.busy": "2024-09-05T09:14:35.389424Z",
     "iopub.status.idle": "2024-09-05T09:14:35.410346Z",
     "shell.execute_reply": "2024-09-05T09:14:35.409256Z"
    },
    "papermill": {
     "duration": 0.043168,
     "end_time": "2024-09-05T09:14:35.412880",
     "exception": false,
     "start_time": "2024-09-05T09:14:35.369712",
     "status": "completed"
    },
    "tags": []
   },
   "outputs": [
    {
     "data": {
      "text/html": [
       "<div>\n",
       "<style scoped>\n",
       "    .dataframe tbody tr th:only-of-type {\n",
       "        vertical-align: middle;\n",
       "    }\n",
       "\n",
       "    .dataframe tbody tr th {\n",
       "        vertical-align: top;\n",
       "    }\n",
       "\n",
       "    .dataframe thead th {\n",
       "        text-align: right;\n",
       "    }\n",
       "</style>\n",
       "<table border=\"1\" class=\"dataframe\">\n",
       "  <thead>\n",
       "    <tr style=\"text-align: right;\">\n",
       "      <th></th>\n",
       "      <th>comment</th>\n",
       "      <th>label</th>\n",
       "      <th>Race</th>\n",
       "      <th>Religion</th>\n",
       "      <th>Gender</th>\n",
       "      <th>Sexual Orientation</th>\n",
       "    </tr>\n",
       "  </thead>\n",
       "  <tbody>\n",
       "    <tr>\n",
       "      <th>0</th>\n",
       "      <td>[u, lmao, wow, fuck, 😂, 😂]</td>\n",
       "      <td>normal</td>\n",
       "      <td>No_race</td>\n",
       "      <td>Nonreligious</td>\n",
       "      <td>No_gender</td>\n",
       "      <td>No_orientation</td>\n",
       "    </tr>\n",
       "    <tr>\n",
       "      <th>1</th>\n",
       "      <td>[th, floor, maybe, wow, cnn, fakenews, body, c...</td>\n",
       "      <td>offensive</td>\n",
       "      <td>No_race</td>\n",
       "      <td>Nonreligious</td>\n",
       "      <td>No_gender</td>\n",
       "      <td>No_orientation</td>\n",
       "    </tr>\n",
       "    <tr>\n",
       "      <th>2</th>\n",
       "      <td>[yr, &lt;, number, &gt;, white, woman, raped, nigger...</td>\n",
       "      <td>hatespeech</td>\n",
       "      <td>African</td>\n",
       "      <td>Nonreligious</td>\n",
       "      <td>No_gender</td>\n",
       "      <td>No_orientation</td>\n",
       "    </tr>\n",
       "    <tr>\n",
       "      <th>3</th>\n",
       "      <td>[h, ago, ching, chong, accepted, friend, reque...</td>\n",
       "      <td>offensive</td>\n",
       "      <td>Asian</td>\n",
       "      <td>Nonreligious</td>\n",
       "      <td>No_gender</td>\n",
       "      <td>No_orientation</td>\n",
       "    </tr>\n",
       "    <tr>\n",
       "      <th>4</th>\n",
       "      <td>[th, century, mayhem, lawlessness, nothing, lo...</td>\n",
       "      <td>normal</td>\n",
       "      <td>No_race</td>\n",
       "      <td>Nonreligious</td>\n",
       "      <td>No_gender</td>\n",
       "      <td>No_orientation</td>\n",
       "    </tr>\n",
       "    <tr>\n",
       "      <th>...</th>\n",
       "      <td>...</td>\n",
       "      <td>...</td>\n",
       "      <td>...</td>\n",
       "      <td>...</td>\n",
       "      <td>...</td>\n",
       "      <td>...</td>\n",
       "    </tr>\n",
       "    <tr>\n",
       "      <th>20104</th>\n",
       "      <td>[😂, 😂, 😂, 😂, 😂, ’, mad, caucasian, failing, fo...</td>\n",
       "      <td>offensive</td>\n",
       "      <td>African</td>\n",
       "      <td>Nonreligious</td>\n",
       "      <td>No_gender</td>\n",
       "      <td>No_orientation</td>\n",
       "    </tr>\n",
       "    <tr>\n",
       "      <th>20105</th>\n",
       "      <td>[🤔, 🤔, 🤔, 🤔, mmm, yes, trebuchet, meme, much, ...</td>\n",
       "      <td>hatespeech</td>\n",
       "      <td>Arab</td>\n",
       "      <td>Islam</td>\n",
       "      <td>No_gender</td>\n",
       "      <td>No_orientation</td>\n",
       "    </tr>\n",
       "    <tr>\n",
       "      <th>20106</th>\n",
       "      <td>[🤣, ghetto, ’, ready, get, tf]</td>\n",
       "      <td>offensive</td>\n",
       "      <td>No_race</td>\n",
       "      <td>Nonreligious</td>\n",
       "      <td>No_gender</td>\n",
       "      <td>No_orientation</td>\n",
       "    </tr>\n",
       "    <tr>\n",
       "      <th>20107</th>\n",
       "      <td>[🤣, 🤣, 😂, 😂, 🤣, 🤣, 😂, 😂, 🤣, 🤣, spelled, name, ...</td>\n",
       "      <td>hatespeech</td>\n",
       "      <td>Arab</td>\n",
       "      <td>Nonreligious</td>\n",
       "      <td>No_gender</td>\n",
       "      <td>No_orientation</td>\n",
       "    </tr>\n",
       "    <tr>\n",
       "      <th>20108</th>\n",
       "      <td>[🤨, hm, six, million, yep, disarmed, ceppin, o...</td>\n",
       "      <td>hatespeech</td>\n",
       "      <td>No_race</td>\n",
       "      <td>Jewish</td>\n",
       "      <td>No_gender</td>\n",
       "      <td>No_orientation</td>\n",
       "    </tr>\n",
       "  </tbody>\n",
       "</table>\n",
       "<p>20109 rows × 6 columns</p>\n",
       "</div>"
      ],
      "text/plain": [
       "                                                 comment       label     Race  \\\n",
       "0                             [u, lmao, wow, fuck, 😂, 😂]      normal  No_race   \n",
       "1      [th, floor, maybe, wow, cnn, fakenews, body, c...   offensive  No_race   \n",
       "2      [yr, <, number, >, white, woman, raped, nigger...  hatespeech  African   \n",
       "3      [h, ago, ching, chong, accepted, friend, reque...   offensive    Asian   \n",
       "4      [th, century, mayhem, lawlessness, nothing, lo...      normal  No_race   \n",
       "...                                                  ...         ...      ...   \n",
       "20104  [😂, 😂, 😂, 😂, 😂, ’, mad, caucasian, failing, fo...   offensive  African   \n",
       "20105  [🤔, 🤔, 🤔, 🤔, mmm, yes, trebuchet, meme, much, ...  hatespeech     Arab   \n",
       "20106                     [🤣, ghetto, ’, ready, get, tf]   offensive  No_race   \n",
       "20107  [🤣, 🤣, 😂, 😂, 🤣, 🤣, 😂, 😂, 🤣, 🤣, spelled, name, ...  hatespeech     Arab   \n",
       "20108  [🤨, hm, six, million, yep, disarmed, ceppin, o...  hatespeech  No_race   \n",
       "\n",
       "           Religion     Gender Sexual Orientation  \n",
       "0      Nonreligious  No_gender     No_orientation  \n",
       "1      Nonreligious  No_gender     No_orientation  \n",
       "2      Nonreligious  No_gender     No_orientation  \n",
       "3      Nonreligious  No_gender     No_orientation  \n",
       "4      Nonreligious  No_gender     No_orientation  \n",
       "...             ...        ...                ...  \n",
       "20104  Nonreligious  No_gender     No_orientation  \n",
       "20105         Islam  No_gender     No_orientation  \n",
       "20106  Nonreligious  No_gender     No_orientation  \n",
       "20107  Nonreligious  No_gender     No_orientation  \n",
       "20108        Jewish  No_gender     No_orientation  \n",
       "\n",
       "[20109 rows x 6 columns]"
      ]
     },
     "execution_count": 21,
     "metadata": {},
     "output_type": "execute_result"
    }
   ],
   "source": [
    "dataset"
   ]
  },
  {
   "cell_type": "markdown",
   "id": "6acb0d8c",
   "metadata": {
    "papermill": {
     "duration": 0.018174,
     "end_time": "2024-09-05T09:14:35.450217",
     "exception": false,
     "start_time": "2024-09-05T09:14:35.432043",
     "status": "completed"
    },
    "tags": []
   },
   "source": [
    "# removing emojis in comments"
   ]
  },
  {
   "cell_type": "code",
   "execution_count": 22,
   "id": "2be36e35",
   "metadata": {
    "execution": {
     "iopub.execute_input": "2024-09-05T09:14:35.489512Z",
     "iopub.status.busy": "2024-09-05T09:14:35.489061Z",
     "iopub.status.idle": "2024-09-05T09:14:35.494966Z",
     "shell.execute_reply": "2024-09-05T09:14:35.493877Z"
    },
    "papermill": {
     "duration": 0.028437,
     "end_time": "2024-09-05T09:14:35.497430",
     "exception": false,
     "start_time": "2024-09-05T09:14:35.468993",
     "status": "completed"
    },
    "tags": []
   },
   "outputs": [],
   "source": [
    "def removing_special_characters(tokens_list):\n",
    "    result = [''.join(letter for letter in token if letter.isalnum()) for token in tokens_list]\n",
    "    \n",
    "    return result"
   ]
  },
  {
   "cell_type": "code",
   "execution_count": 23,
   "id": "6fee1ad3",
   "metadata": {
    "execution": {
     "iopub.execute_input": "2024-09-05T09:14:35.537580Z",
     "iopub.status.busy": "2024-09-05T09:14:35.536847Z",
     "iopub.status.idle": "2024-09-05T09:14:35.543961Z",
     "shell.execute_reply": "2024-09-05T09:14:35.542900Z"
    },
    "papermill": {
     "duration": 0.029908,
     "end_time": "2024-09-05T09:14:35.546231",
     "exception": false,
     "start_time": "2024-09-05T09:14:35.516323",
     "status": "completed"
    },
    "tags": []
   },
   "outputs": [
    {
     "data": {
      "text/plain": [
       "['GeeksforGeeks', 'number']"
      ]
     },
     "execution_count": 23,
     "metadata": {},
     "output_type": "execute_result"
    }
   ],
   "source": [
    "list = [\"Ge;ek * s:fo ! r;Ge * e*k:s !\",\"<number>$$\"]\n",
    "removing_special_characters(list)"
   ]
  },
  {
   "cell_type": "code",
   "execution_count": 24,
   "id": "317b6825",
   "metadata": {
    "execution": {
     "iopub.execute_input": "2024-09-05T09:14:35.585801Z",
     "iopub.status.busy": "2024-09-05T09:14:35.585354Z",
     "iopub.status.idle": "2024-09-05T09:14:36.139415Z",
     "shell.execute_reply": "2024-09-05T09:14:36.138270Z"
    },
    "papermill": {
     "duration": 0.577154,
     "end_time": "2024-09-05T09:14:36.142237",
     "exception": false,
     "start_time": "2024-09-05T09:14:35.565083",
     "status": "completed"
    },
    "tags": []
   },
   "outputs": [],
   "source": [
    "dataset['comment'] = dataset['comment'].apply(lambda x:removing_special_characters(x))"
   ]
  },
  {
   "cell_type": "code",
   "execution_count": 25,
   "id": "bd03b53b",
   "metadata": {
    "execution": {
     "iopub.execute_input": "2024-09-05T09:14:36.183424Z",
     "iopub.status.busy": "2024-09-05T09:14:36.182973Z",
     "iopub.status.idle": "2024-09-05T09:14:36.204284Z",
     "shell.execute_reply": "2024-09-05T09:14:36.203181Z"
    },
    "papermill": {
     "duration": 0.045287,
     "end_time": "2024-09-05T09:14:36.206742",
     "exception": false,
     "start_time": "2024-09-05T09:14:36.161455",
     "status": "completed"
    },
    "tags": []
   },
   "outputs": [
    {
     "data": {
      "text/html": [
       "<div>\n",
       "<style scoped>\n",
       "    .dataframe tbody tr th:only-of-type {\n",
       "        vertical-align: middle;\n",
       "    }\n",
       "\n",
       "    .dataframe tbody tr th {\n",
       "        vertical-align: top;\n",
       "    }\n",
       "\n",
       "    .dataframe thead th {\n",
       "        text-align: right;\n",
       "    }\n",
       "</style>\n",
       "<table border=\"1\" class=\"dataframe\">\n",
       "  <thead>\n",
       "    <tr style=\"text-align: right;\">\n",
       "      <th></th>\n",
       "      <th>comment</th>\n",
       "      <th>label</th>\n",
       "      <th>Race</th>\n",
       "      <th>Religion</th>\n",
       "      <th>Gender</th>\n",
       "      <th>Sexual Orientation</th>\n",
       "    </tr>\n",
       "  </thead>\n",
       "  <tbody>\n",
       "    <tr>\n",
       "      <th>0</th>\n",
       "      <td>[u, lmao, wow, fuck, , ]</td>\n",
       "      <td>normal</td>\n",
       "      <td>No_race</td>\n",
       "      <td>Nonreligious</td>\n",
       "      <td>No_gender</td>\n",
       "      <td>No_orientation</td>\n",
       "    </tr>\n",
       "    <tr>\n",
       "      <th>1</th>\n",
       "      <td>[th, floor, maybe, wow, cnn, fakenews, body, c...</td>\n",
       "      <td>offensive</td>\n",
       "      <td>No_race</td>\n",
       "      <td>Nonreligious</td>\n",
       "      <td>No_gender</td>\n",
       "      <td>No_orientation</td>\n",
       "    </tr>\n",
       "    <tr>\n",
       "      <th>2</th>\n",
       "      <td>[yr, , number, , white, woman, raped, nigger, ...</td>\n",
       "      <td>hatespeech</td>\n",
       "      <td>African</td>\n",
       "      <td>Nonreligious</td>\n",
       "      <td>No_gender</td>\n",
       "      <td>No_orientation</td>\n",
       "    </tr>\n",
       "    <tr>\n",
       "      <th>3</th>\n",
       "      <td>[h, ago, ching, chong, accepted, friend, reque...</td>\n",
       "      <td>offensive</td>\n",
       "      <td>Asian</td>\n",
       "      <td>Nonreligious</td>\n",
       "      <td>No_gender</td>\n",
       "      <td>No_orientation</td>\n",
       "    </tr>\n",
       "    <tr>\n",
       "      <th>4</th>\n",
       "      <td>[th, century, mayhem, lawlessness, nothing, lo...</td>\n",
       "      <td>normal</td>\n",
       "      <td>No_race</td>\n",
       "      <td>Nonreligious</td>\n",
       "      <td>No_gender</td>\n",
       "      <td>No_orientation</td>\n",
       "    </tr>\n",
       "    <tr>\n",
       "      <th>...</th>\n",
       "      <td>...</td>\n",
       "      <td>...</td>\n",
       "      <td>...</td>\n",
       "      <td>...</td>\n",
       "      <td>...</td>\n",
       "      <td>...</td>\n",
       "    </tr>\n",
       "    <tr>\n",
       "      <th>20104</th>\n",
       "      <td>[, , , , , , mad, caucasian, failing, forget, ...</td>\n",
       "      <td>offensive</td>\n",
       "      <td>African</td>\n",
       "      <td>Nonreligious</td>\n",
       "      <td>No_gender</td>\n",
       "      <td>No_orientation</td>\n",
       "    </tr>\n",
       "    <tr>\n",
       "      <th>20105</th>\n",
       "      <td>[, , , , mmm, yes, trebuchet, meme, much, nice...</td>\n",
       "      <td>hatespeech</td>\n",
       "      <td>Arab</td>\n",
       "      <td>Islam</td>\n",
       "      <td>No_gender</td>\n",
       "      <td>No_orientation</td>\n",
       "    </tr>\n",
       "    <tr>\n",
       "      <th>20106</th>\n",
       "      <td>[, ghetto, , ready, get, tf]</td>\n",
       "      <td>offensive</td>\n",
       "      <td>No_race</td>\n",
       "      <td>Nonreligious</td>\n",
       "      <td>No_gender</td>\n",
       "      <td>No_orientation</td>\n",
       "    </tr>\n",
       "    <tr>\n",
       "      <th>20107</th>\n",
       "      <td>[, , , , , , , , , , spelled, name, wrong, nam...</td>\n",
       "      <td>hatespeech</td>\n",
       "      <td>Arab</td>\n",
       "      <td>Nonreligious</td>\n",
       "      <td>No_gender</td>\n",
       "      <td>No_orientation</td>\n",
       "    </tr>\n",
       "    <tr>\n",
       "      <th>20108</th>\n",
       "      <td>[, hm, six, million, yep, disarmed, ceppin, on...</td>\n",
       "      <td>hatespeech</td>\n",
       "      <td>No_race</td>\n",
       "      <td>Jewish</td>\n",
       "      <td>No_gender</td>\n",
       "      <td>No_orientation</td>\n",
       "    </tr>\n",
       "  </tbody>\n",
       "</table>\n",
       "<p>20109 rows × 6 columns</p>\n",
       "</div>"
      ],
      "text/plain": [
       "                                                 comment       label     Race  \\\n",
       "0                               [u, lmao, wow, fuck, , ]      normal  No_race   \n",
       "1      [th, floor, maybe, wow, cnn, fakenews, body, c...   offensive  No_race   \n",
       "2      [yr, , number, , white, woman, raped, nigger, ...  hatespeech  African   \n",
       "3      [h, ago, ching, chong, accepted, friend, reque...   offensive    Asian   \n",
       "4      [th, century, mayhem, lawlessness, nothing, lo...      normal  No_race   \n",
       "...                                                  ...         ...      ...   \n",
       "20104  [, , , , , , mad, caucasian, failing, forget, ...   offensive  African   \n",
       "20105  [, , , , mmm, yes, trebuchet, meme, much, nice...  hatespeech     Arab   \n",
       "20106                       [, ghetto, , ready, get, tf]   offensive  No_race   \n",
       "20107  [, , , , , , , , , , spelled, name, wrong, nam...  hatespeech     Arab   \n",
       "20108  [, hm, six, million, yep, disarmed, ceppin, on...  hatespeech  No_race   \n",
       "\n",
       "           Religion     Gender Sexual Orientation  \n",
       "0      Nonreligious  No_gender     No_orientation  \n",
       "1      Nonreligious  No_gender     No_orientation  \n",
       "2      Nonreligious  No_gender     No_orientation  \n",
       "3      Nonreligious  No_gender     No_orientation  \n",
       "4      Nonreligious  No_gender     No_orientation  \n",
       "...             ...        ...                ...  \n",
       "20104  Nonreligious  No_gender     No_orientation  \n",
       "20105         Islam  No_gender     No_orientation  \n",
       "20106  Nonreligious  No_gender     No_orientation  \n",
       "20107  Nonreligious  No_gender     No_orientation  \n",
       "20108        Jewish  No_gender     No_orientation  \n",
       "\n",
       "[20109 rows x 6 columns]"
      ]
     },
     "execution_count": 25,
     "metadata": {},
     "output_type": "execute_result"
    }
   ],
   "source": [
    "dataset"
   ]
  },
  {
   "cell_type": "markdown",
   "id": "c69ced53",
   "metadata": {
    "papermill": {
     "duration": 0.019231,
     "end_time": "2024-09-05T09:14:36.245472",
     "exception": false,
     "start_time": "2024-09-05T09:14:36.226241",
     "status": "completed"
    },
    "tags": []
   },
   "source": [
    "# remove empty string"
   ]
  },
  {
   "cell_type": "code",
   "execution_count": 26,
   "id": "d371f3df",
   "metadata": {
    "execution": {
     "iopub.execute_input": "2024-09-05T09:14:36.340470Z",
     "iopub.status.busy": "2024-09-05T09:14:36.340018Z",
     "iopub.status.idle": "2024-09-05T09:14:36.345587Z",
     "shell.execute_reply": "2024-09-05T09:14:36.344526Z"
    },
    "papermill": {
     "duration": 0.083036,
     "end_time": "2024-09-05T09:14:36.347937",
     "exception": false,
     "start_time": "2024-09-05T09:14:36.264901",
     "status": "completed"
    },
    "tags": []
   },
   "outputs": [],
   "source": [
    "def remove_empty_string(tokens_list):\n",
    "    result = [token for token in tokens_list if token]\n",
    "    \n",
    "    return result"
   ]
  },
  {
   "cell_type": "code",
   "execution_count": 27,
   "id": "5d50ff86",
   "metadata": {
    "execution": {
     "iopub.execute_input": "2024-09-05T09:14:36.389477Z",
     "iopub.status.busy": "2024-09-05T09:14:36.388253Z",
     "iopub.status.idle": "2024-09-05T09:14:36.395888Z",
     "shell.execute_reply": "2024-09-05T09:14:36.394921Z"
    },
    "papermill": {
     "duration": 0.030652,
     "end_time": "2024-09-05T09:14:36.398082",
     "exception": false,
     "start_time": "2024-09-05T09:14:36.367430",
     "status": "completed"
    },
    "tags": []
   },
   "outputs": [
    {
     "data": {
      "text/plain": [
       "['mad', 'caucasian', 'failing', 'forget']"
      ]
     },
     "execution_count": 27,
     "metadata": {},
     "output_type": "execute_result"
    }
   ],
   "source": [
    "list= [\"\",\"\" ,\"\" ,\"\" ,\"\" ,\"\" , \"mad\", \"caucasian\", \"failing\", \"forget\"]\n",
    "remove_empty_string(list)"
   ]
  },
  {
   "cell_type": "code",
   "execution_count": 28,
   "id": "8a20e541",
   "metadata": {
    "execution": {
     "iopub.execute_input": "2024-09-05T09:14:36.438995Z",
     "iopub.status.busy": "2024-09-05T09:14:36.438256Z",
     "iopub.status.idle": "2024-09-05T09:14:36.900131Z",
     "shell.execute_reply": "2024-09-05T09:14:36.898858Z"
    },
    "papermill": {
     "duration": 0.485528,
     "end_time": "2024-09-05T09:14:36.902936",
     "exception": false,
     "start_time": "2024-09-05T09:14:36.417408",
     "status": "completed"
    },
    "tags": []
   },
   "outputs": [],
   "source": [
    "dataset['comment'] = dataset['comment'].apply(lambda x: remove_empty_string(x))"
   ]
  },
  {
   "cell_type": "code",
   "execution_count": 29,
   "id": "cbc0cc76",
   "metadata": {
    "execution": {
     "iopub.execute_input": "2024-09-05T09:14:36.943889Z",
     "iopub.status.busy": "2024-09-05T09:14:36.943432Z",
     "iopub.status.idle": "2024-09-05T09:14:36.963931Z",
     "shell.execute_reply": "2024-09-05T09:14:36.962808Z"
    },
    "papermill": {
     "duration": 0.043765,
     "end_time": "2024-09-05T09:14:36.966360",
     "exception": false,
     "start_time": "2024-09-05T09:14:36.922595",
     "status": "completed"
    },
    "tags": []
   },
   "outputs": [
    {
     "data": {
      "text/html": [
       "<div>\n",
       "<style scoped>\n",
       "    .dataframe tbody tr th:only-of-type {\n",
       "        vertical-align: middle;\n",
       "    }\n",
       "\n",
       "    .dataframe tbody tr th {\n",
       "        vertical-align: top;\n",
       "    }\n",
       "\n",
       "    .dataframe thead th {\n",
       "        text-align: right;\n",
       "    }\n",
       "</style>\n",
       "<table border=\"1\" class=\"dataframe\">\n",
       "  <thead>\n",
       "    <tr style=\"text-align: right;\">\n",
       "      <th></th>\n",
       "      <th>comment</th>\n",
       "      <th>label</th>\n",
       "      <th>Race</th>\n",
       "      <th>Religion</th>\n",
       "      <th>Gender</th>\n",
       "      <th>Sexual Orientation</th>\n",
       "    </tr>\n",
       "  </thead>\n",
       "  <tbody>\n",
       "    <tr>\n",
       "      <th>0</th>\n",
       "      <td>[u, lmao, wow, fuck]</td>\n",
       "      <td>normal</td>\n",
       "      <td>No_race</td>\n",
       "      <td>Nonreligious</td>\n",
       "      <td>No_gender</td>\n",
       "      <td>No_orientation</td>\n",
       "    </tr>\n",
       "    <tr>\n",
       "      <th>1</th>\n",
       "      <td>[th, floor, maybe, wow, cnn, fakenews, body, c...</td>\n",
       "      <td>offensive</td>\n",
       "      <td>No_race</td>\n",
       "      <td>Nonreligious</td>\n",
       "      <td>No_gender</td>\n",
       "      <td>No_orientation</td>\n",
       "    </tr>\n",
       "    <tr>\n",
       "      <th>2</th>\n",
       "      <td>[yr, number, white, woman, raped, nigger, numb...</td>\n",
       "      <td>hatespeech</td>\n",
       "      <td>African</td>\n",
       "      <td>Nonreligious</td>\n",
       "      <td>No_gender</td>\n",
       "      <td>No_orientation</td>\n",
       "    </tr>\n",
       "    <tr>\n",
       "      <th>3</th>\n",
       "      <td>[h, ago, ching, chong, accepted, friend, request]</td>\n",
       "      <td>offensive</td>\n",
       "      <td>Asian</td>\n",
       "      <td>Nonreligious</td>\n",
       "      <td>No_gender</td>\n",
       "      <td>No_orientation</td>\n",
       "    </tr>\n",
       "    <tr>\n",
       "      <th>4</th>\n",
       "      <td>[th, century, mayhem, lawlessness, nothing, lo...</td>\n",
       "      <td>normal</td>\n",
       "      <td>No_race</td>\n",
       "      <td>Nonreligious</td>\n",
       "      <td>No_gender</td>\n",
       "      <td>No_orientation</td>\n",
       "    </tr>\n",
       "    <tr>\n",
       "      <th>...</th>\n",
       "      <td>...</td>\n",
       "      <td>...</td>\n",
       "      <td>...</td>\n",
       "      <td>...</td>\n",
       "      <td>...</td>\n",
       "      <td>...</td>\n",
       "    </tr>\n",
       "    <tr>\n",
       "      <th>20104</th>\n",
       "      <td>[mad, caucasian, failing, forget, black, selli...</td>\n",
       "      <td>offensive</td>\n",
       "      <td>African</td>\n",
       "      <td>Nonreligious</td>\n",
       "      <td>No_gender</td>\n",
       "      <td>No_orientation</td>\n",
       "    </tr>\n",
       "    <tr>\n",
       "      <th>20105</th>\n",
       "      <td>[mmm, yes, trebuchet, meme, much, nicer, catap...</td>\n",
       "      <td>hatespeech</td>\n",
       "      <td>Arab</td>\n",
       "      <td>Islam</td>\n",
       "      <td>No_gender</td>\n",
       "      <td>No_orientation</td>\n",
       "    </tr>\n",
       "    <tr>\n",
       "      <th>20106</th>\n",
       "      <td>[ghetto, ready, get, tf]</td>\n",
       "      <td>offensive</td>\n",
       "      <td>No_race</td>\n",
       "      <td>Nonreligious</td>\n",
       "      <td>No_gender</td>\n",
       "      <td>No_orientation</td>\n",
       "    </tr>\n",
       "    <tr>\n",
       "      <th>20107</th>\n",
       "      <td>[spelled, name, wrong, name, literally, front,...</td>\n",
       "      <td>hatespeech</td>\n",
       "      <td>Arab</td>\n",
       "      <td>Nonreligious</td>\n",
       "      <td>No_gender</td>\n",
       "      <td>No_orientation</td>\n",
       "    </tr>\n",
       "    <tr>\n",
       "      <th>20108</th>\n",
       "      <td>[hm, six, million, yep, disarmed, ceppin, one,...</td>\n",
       "      <td>hatespeech</td>\n",
       "      <td>No_race</td>\n",
       "      <td>Jewish</td>\n",
       "      <td>No_gender</td>\n",
       "      <td>No_orientation</td>\n",
       "    </tr>\n",
       "  </tbody>\n",
       "</table>\n",
       "<p>20109 rows × 6 columns</p>\n",
       "</div>"
      ],
      "text/plain": [
       "                                                 comment       label     Race  \\\n",
       "0                                   [u, lmao, wow, fuck]      normal  No_race   \n",
       "1      [th, floor, maybe, wow, cnn, fakenews, body, c...   offensive  No_race   \n",
       "2      [yr, number, white, woman, raped, nigger, numb...  hatespeech  African   \n",
       "3      [h, ago, ching, chong, accepted, friend, request]   offensive    Asian   \n",
       "4      [th, century, mayhem, lawlessness, nothing, lo...      normal  No_race   \n",
       "...                                                  ...         ...      ...   \n",
       "20104  [mad, caucasian, failing, forget, black, selli...   offensive  African   \n",
       "20105  [mmm, yes, trebuchet, meme, much, nicer, catap...  hatespeech     Arab   \n",
       "20106                           [ghetto, ready, get, tf]   offensive  No_race   \n",
       "20107  [spelled, name, wrong, name, literally, front,...  hatespeech     Arab   \n",
       "20108  [hm, six, million, yep, disarmed, ceppin, one,...  hatespeech  No_race   \n",
       "\n",
       "           Religion     Gender Sexual Orientation  \n",
       "0      Nonreligious  No_gender     No_orientation  \n",
       "1      Nonreligious  No_gender     No_orientation  \n",
       "2      Nonreligious  No_gender     No_orientation  \n",
       "3      Nonreligious  No_gender     No_orientation  \n",
       "4      Nonreligious  No_gender     No_orientation  \n",
       "...             ...        ...                ...  \n",
       "20104  Nonreligious  No_gender     No_orientation  \n",
       "20105         Islam  No_gender     No_orientation  \n",
       "20106  Nonreligious  No_gender     No_orientation  \n",
       "20107  Nonreligious  No_gender     No_orientation  \n",
       "20108        Jewish  No_gender     No_orientation  \n",
       "\n",
       "[20109 rows x 6 columns]"
      ]
     },
     "execution_count": 29,
     "metadata": {},
     "output_type": "execute_result"
    }
   ],
   "source": [
    "dataset"
   ]
  },
  {
   "cell_type": "markdown",
   "id": "e58b9531",
   "metadata": {
    "papermill": {
     "duration": 0.019862,
     "end_time": "2024-09-05T09:14:37.006073",
     "exception": false,
     "start_time": "2024-09-05T09:14:36.986211",
     "status": "completed"
    },
    "tags": []
   },
   "source": [
    "# classification part"
   ]
  },
  {
   "cell_type": "code",
   "execution_count": 30,
   "id": "dba53aa4",
   "metadata": {
    "execution": {
     "iopub.execute_input": "2024-09-05T09:14:37.048344Z",
     "iopub.status.busy": "2024-09-05T09:14:37.047939Z",
     "iopub.status.idle": "2024-09-05T09:14:37.055741Z",
     "shell.execute_reply": "2024-09-05T09:14:37.054821Z"
    },
    "papermill": {
     "duration": 0.031978,
     "end_time": "2024-09-05T09:14:37.058087",
     "exception": false,
     "start_time": "2024-09-05T09:14:37.026109",
     "status": "completed"
    },
    "tags": []
   },
   "outputs": [],
   "source": [
    "target = dataset['label']\n",
    "features = dataset.drop('label',axis=1)"
   ]
  },
  {
   "cell_type": "code",
   "execution_count": 31,
   "id": "40e91fee",
   "metadata": {
    "execution": {
     "iopub.execute_input": "2024-09-05T09:14:37.100165Z",
     "iopub.status.busy": "2024-09-05T09:14:37.099747Z",
     "iopub.status.idle": "2024-09-05T09:14:37.119660Z",
     "shell.execute_reply": "2024-09-05T09:14:37.118433Z"
    },
    "papermill": {
     "duration": 0.04391,
     "end_time": "2024-09-05T09:14:37.122185",
     "exception": false,
     "start_time": "2024-09-05T09:14:37.078275",
     "status": "completed"
    },
    "tags": []
   },
   "outputs": [
    {
     "data": {
      "text/html": [
       "<div>\n",
       "<style scoped>\n",
       "    .dataframe tbody tr th:only-of-type {\n",
       "        vertical-align: middle;\n",
       "    }\n",
       "\n",
       "    .dataframe tbody tr th {\n",
       "        vertical-align: top;\n",
       "    }\n",
       "\n",
       "    .dataframe thead th {\n",
       "        text-align: right;\n",
       "    }\n",
       "</style>\n",
       "<table border=\"1\" class=\"dataframe\">\n",
       "  <thead>\n",
       "    <tr style=\"text-align: right;\">\n",
       "      <th></th>\n",
       "      <th>comment</th>\n",
       "      <th>Race</th>\n",
       "      <th>Religion</th>\n",
       "      <th>Gender</th>\n",
       "      <th>Sexual Orientation</th>\n",
       "    </tr>\n",
       "  </thead>\n",
       "  <tbody>\n",
       "    <tr>\n",
       "      <th>0</th>\n",
       "      <td>[u, lmao, wow, fuck]</td>\n",
       "      <td>No_race</td>\n",
       "      <td>Nonreligious</td>\n",
       "      <td>No_gender</td>\n",
       "      <td>No_orientation</td>\n",
       "    </tr>\n",
       "    <tr>\n",
       "      <th>1</th>\n",
       "      <td>[th, floor, maybe, wow, cnn, fakenews, body, c...</td>\n",
       "      <td>No_race</td>\n",
       "      <td>Nonreligious</td>\n",
       "      <td>No_gender</td>\n",
       "      <td>No_orientation</td>\n",
       "    </tr>\n",
       "    <tr>\n",
       "      <th>2</th>\n",
       "      <td>[yr, number, white, woman, raped, nigger, numb...</td>\n",
       "      <td>African</td>\n",
       "      <td>Nonreligious</td>\n",
       "      <td>No_gender</td>\n",
       "      <td>No_orientation</td>\n",
       "    </tr>\n",
       "    <tr>\n",
       "      <th>3</th>\n",
       "      <td>[h, ago, ching, chong, accepted, friend, request]</td>\n",
       "      <td>Asian</td>\n",
       "      <td>Nonreligious</td>\n",
       "      <td>No_gender</td>\n",
       "      <td>No_orientation</td>\n",
       "    </tr>\n",
       "    <tr>\n",
       "      <th>4</th>\n",
       "      <td>[th, century, mayhem, lawlessness, nothing, lo...</td>\n",
       "      <td>No_race</td>\n",
       "      <td>Nonreligious</td>\n",
       "      <td>No_gender</td>\n",
       "      <td>No_orientation</td>\n",
       "    </tr>\n",
       "    <tr>\n",
       "      <th>...</th>\n",
       "      <td>...</td>\n",
       "      <td>...</td>\n",
       "      <td>...</td>\n",
       "      <td>...</td>\n",
       "      <td>...</td>\n",
       "    </tr>\n",
       "    <tr>\n",
       "      <th>20104</th>\n",
       "      <td>[mad, caucasian, failing, forget, black, selli...</td>\n",
       "      <td>African</td>\n",
       "      <td>Nonreligious</td>\n",
       "      <td>No_gender</td>\n",
       "      <td>No_orientation</td>\n",
       "    </tr>\n",
       "    <tr>\n",
       "      <th>20105</th>\n",
       "      <td>[mmm, yes, trebuchet, meme, much, nicer, catap...</td>\n",
       "      <td>Arab</td>\n",
       "      <td>Islam</td>\n",
       "      <td>No_gender</td>\n",
       "      <td>No_orientation</td>\n",
       "    </tr>\n",
       "    <tr>\n",
       "      <th>20106</th>\n",
       "      <td>[ghetto, ready, get, tf]</td>\n",
       "      <td>No_race</td>\n",
       "      <td>Nonreligious</td>\n",
       "      <td>No_gender</td>\n",
       "      <td>No_orientation</td>\n",
       "    </tr>\n",
       "    <tr>\n",
       "      <th>20107</th>\n",
       "      <td>[spelled, name, wrong, name, literally, front,...</td>\n",
       "      <td>Arab</td>\n",
       "      <td>Nonreligious</td>\n",
       "      <td>No_gender</td>\n",
       "      <td>No_orientation</td>\n",
       "    </tr>\n",
       "    <tr>\n",
       "      <th>20108</th>\n",
       "      <td>[hm, six, million, yep, disarmed, ceppin, one,...</td>\n",
       "      <td>No_race</td>\n",
       "      <td>Jewish</td>\n",
       "      <td>No_gender</td>\n",
       "      <td>No_orientation</td>\n",
       "    </tr>\n",
       "  </tbody>\n",
       "</table>\n",
       "<p>20109 rows × 5 columns</p>\n",
       "</div>"
      ],
      "text/plain": [
       "                                                 comment     Race  \\\n",
       "0                                   [u, lmao, wow, fuck]  No_race   \n",
       "1      [th, floor, maybe, wow, cnn, fakenews, body, c...  No_race   \n",
       "2      [yr, number, white, woman, raped, nigger, numb...  African   \n",
       "3      [h, ago, ching, chong, accepted, friend, request]    Asian   \n",
       "4      [th, century, mayhem, lawlessness, nothing, lo...  No_race   \n",
       "...                                                  ...      ...   \n",
       "20104  [mad, caucasian, failing, forget, black, selli...  African   \n",
       "20105  [mmm, yes, trebuchet, meme, much, nicer, catap...     Arab   \n",
       "20106                           [ghetto, ready, get, tf]  No_race   \n",
       "20107  [spelled, name, wrong, name, literally, front,...     Arab   \n",
       "20108  [hm, six, million, yep, disarmed, ceppin, one,...  No_race   \n",
       "\n",
       "           Religion     Gender Sexual Orientation  \n",
       "0      Nonreligious  No_gender     No_orientation  \n",
       "1      Nonreligious  No_gender     No_orientation  \n",
       "2      Nonreligious  No_gender     No_orientation  \n",
       "3      Nonreligious  No_gender     No_orientation  \n",
       "4      Nonreligious  No_gender     No_orientation  \n",
       "...             ...        ...                ...  \n",
       "20104  Nonreligious  No_gender     No_orientation  \n",
       "20105         Islam  No_gender     No_orientation  \n",
       "20106  Nonreligious  No_gender     No_orientation  \n",
       "20107  Nonreligious  No_gender     No_orientation  \n",
       "20108        Jewish  No_gender     No_orientation  \n",
       "\n",
       "[20109 rows x 5 columns]"
      ]
     },
     "execution_count": 31,
     "metadata": {},
     "output_type": "execute_result"
    }
   ],
   "source": [
    "features"
   ]
  },
  {
   "cell_type": "code",
   "execution_count": 32,
   "id": "b910b682",
   "metadata": {
    "execution": {
     "iopub.execute_input": "2024-09-05T09:14:37.164497Z",
     "iopub.status.busy": "2024-09-05T09:14:37.164094Z",
     "iopub.status.idle": "2024-09-05T09:14:37.190386Z",
     "shell.execute_reply": "2024-09-05T09:14:37.189288Z"
    },
    "papermill": {
     "duration": 0.05029,
     "end_time": "2024-09-05T09:14:37.192772",
     "exception": false,
     "start_time": "2024-09-05T09:14:37.142482",
     "status": "completed"
    },
    "tags": []
   },
   "outputs": [],
   "source": [
    "features['comment'] = features['comment'].apply(lambda x: ' '.join(x))"
   ]
  },
  {
   "cell_type": "code",
   "execution_count": 33,
   "id": "d7774173",
   "metadata": {
    "execution": {
     "iopub.execute_input": "2024-09-05T09:14:37.236278Z",
     "iopub.status.busy": "2024-09-05T09:14:37.235378Z",
     "iopub.status.idle": "2024-09-05T09:14:37.249911Z",
     "shell.execute_reply": "2024-09-05T09:14:37.248689Z"
    },
    "papermill": {
     "duration": 0.039182,
     "end_time": "2024-09-05T09:14:37.252482",
     "exception": false,
     "start_time": "2024-09-05T09:14:37.213300",
     "status": "completed"
    },
    "tags": []
   },
   "outputs": [
    {
     "data": {
      "text/html": [
       "<div>\n",
       "<style scoped>\n",
       "    .dataframe tbody tr th:only-of-type {\n",
       "        vertical-align: middle;\n",
       "    }\n",
       "\n",
       "    .dataframe tbody tr th {\n",
       "        vertical-align: top;\n",
       "    }\n",
       "\n",
       "    .dataframe thead th {\n",
       "        text-align: right;\n",
       "    }\n",
       "</style>\n",
       "<table border=\"1\" class=\"dataframe\">\n",
       "  <thead>\n",
       "    <tr style=\"text-align: right;\">\n",
       "      <th></th>\n",
       "      <th>comment</th>\n",
       "      <th>Race</th>\n",
       "      <th>Religion</th>\n",
       "      <th>Gender</th>\n",
       "      <th>Sexual Orientation</th>\n",
       "    </tr>\n",
       "  </thead>\n",
       "  <tbody>\n",
       "    <tr>\n",
       "      <th>0</th>\n",
       "      <td>u lmao wow fuck</td>\n",
       "      <td>No_race</td>\n",
       "      <td>Nonreligious</td>\n",
       "      <td>No_gender</td>\n",
       "      <td>No_orientation</td>\n",
       "    </tr>\n",
       "    <tr>\n",
       "      <th>1</th>\n",
       "      <td>th floor maybe wow cnn fakenews body count goi...</td>\n",
       "      <td>No_race</td>\n",
       "      <td>Nonreligious</td>\n",
       "      <td>No_gender</td>\n",
       "      <td>No_orientation</td>\n",
       "    </tr>\n",
       "    <tr>\n",
       "      <th>2</th>\n",
       "      <td>yr number white woman raped nigger number negr...</td>\n",
       "      <td>African</td>\n",
       "      <td>Nonreligious</td>\n",
       "      <td>No_gender</td>\n",
       "      <td>No_orientation</td>\n",
       "    </tr>\n",
       "    <tr>\n",
       "      <th>3</th>\n",
       "      <td>h ago ching chong accepted friend request</td>\n",
       "      <td>Asian</td>\n",
       "      <td>Nonreligious</td>\n",
       "      <td>No_gender</td>\n",
       "      <td>No_orientation</td>\n",
       "    </tr>\n",
       "    <tr>\n",
       "      <th>4</th>\n",
       "      <td>th century mayhem lawlessness nothing loud mou...</td>\n",
       "      <td>No_race</td>\n",
       "      <td>Nonreligious</td>\n",
       "      <td>No_gender</td>\n",
       "      <td>No_orientation</td>\n",
       "    </tr>\n",
       "    <tr>\n",
       "      <th>...</th>\n",
       "      <td>...</td>\n",
       "      <td>...</td>\n",
       "      <td>...</td>\n",
       "      <td>...</td>\n",
       "      <td>...</td>\n",
       "    </tr>\n",
       "    <tr>\n",
       "      <th>20104</th>\n",
       "      <td>mad caucasian failing forget black selling u</td>\n",
       "      <td>African</td>\n",
       "      <td>Nonreligious</td>\n",
       "      <td>No_gender</td>\n",
       "      <td>No_orientation</td>\n",
       "    </tr>\n",
       "    <tr>\n",
       "      <th>20105</th>\n",
       "      <td>mmm yes trebuchet meme much nicer catapult mem...</td>\n",
       "      <td>Arab</td>\n",
       "      <td>Islam</td>\n",
       "      <td>No_gender</td>\n",
       "      <td>No_orientation</td>\n",
       "    </tr>\n",
       "    <tr>\n",
       "      <th>20106</th>\n",
       "      <td>ghetto ready get tf</td>\n",
       "      <td>No_race</td>\n",
       "      <td>Nonreligious</td>\n",
       "      <td>No_gender</td>\n",
       "      <td>No_orientation</td>\n",
       "    </tr>\n",
       "    <tr>\n",
       "      <th>20107</th>\n",
       "      <td>spelled name wrong name literally front face n...</td>\n",
       "      <td>Arab</td>\n",
       "      <td>Nonreligious</td>\n",
       "      <td>No_gender</td>\n",
       "      <td>No_orientation</td>\n",
       "    </tr>\n",
       "    <tr>\n",
       "      <th>20108</th>\n",
       "      <td>hm six million yep disarmed ceppin one warsaw ...</td>\n",
       "      <td>No_race</td>\n",
       "      <td>Jewish</td>\n",
       "      <td>No_gender</td>\n",
       "      <td>No_orientation</td>\n",
       "    </tr>\n",
       "  </tbody>\n",
       "</table>\n",
       "<p>20109 rows × 5 columns</p>\n",
       "</div>"
      ],
      "text/plain": [
       "                                                 comment     Race  \\\n",
       "0                                        u lmao wow fuck  No_race   \n",
       "1      th floor maybe wow cnn fakenews body count goi...  No_race   \n",
       "2      yr number white woman raped nigger number negr...  African   \n",
       "3              h ago ching chong accepted friend request    Asian   \n",
       "4      th century mayhem lawlessness nothing loud mou...  No_race   \n",
       "...                                                  ...      ...   \n",
       "20104       mad caucasian failing forget black selling u  African   \n",
       "20105  mmm yes trebuchet meme much nicer catapult mem...     Arab   \n",
       "20106                                ghetto ready get tf  No_race   \n",
       "20107  spelled name wrong name literally front face n...     Arab   \n",
       "20108  hm six million yep disarmed ceppin one warsaw ...  No_race   \n",
       "\n",
       "           Religion     Gender Sexual Orientation  \n",
       "0      Nonreligious  No_gender     No_orientation  \n",
       "1      Nonreligious  No_gender     No_orientation  \n",
       "2      Nonreligious  No_gender     No_orientation  \n",
       "3      Nonreligious  No_gender     No_orientation  \n",
       "4      Nonreligious  No_gender     No_orientation  \n",
       "...             ...        ...                ...  \n",
       "20104  Nonreligious  No_gender     No_orientation  \n",
       "20105         Islam  No_gender     No_orientation  \n",
       "20106  Nonreligious  No_gender     No_orientation  \n",
       "20107  Nonreligious  No_gender     No_orientation  \n",
       "20108        Jewish  No_gender     No_orientation  \n",
       "\n",
       "[20109 rows x 5 columns]"
      ]
     },
     "execution_count": 33,
     "metadata": {},
     "output_type": "execute_result"
    }
   ],
   "source": [
    "features"
   ]
  },
  {
   "cell_type": "code",
   "execution_count": 34,
   "id": "19d9f080",
   "metadata": {
    "execution": {
     "iopub.execute_input": "2024-09-05T09:14:37.295642Z",
     "iopub.status.busy": "2024-09-05T09:14:37.295225Z",
     "iopub.status.idle": "2024-09-05T09:14:37.301167Z",
     "shell.execute_reply": "2024-09-05T09:14:37.300013Z"
    },
    "papermill": {
     "duration": 0.030042,
     "end_time": "2024-09-05T09:14:37.303440",
     "exception": false,
     "start_time": "2024-09-05T09:14:37.273398",
     "status": "completed"
    },
    "tags": []
   },
   "outputs": [],
   "source": [
    "preprocessing = ColumnTransformer(\n",
    "     transformers=[\n",
    "        ('tfidf', TfidfVectorizer(), 'comment'),  # TF-IDF pour les commentaires\n",
    "        ('onehot', OneHotEncoder(), ['Race', 'Religion', 'Gender', 'Sexual Orientation'])  # One-Hot Encoding pour les variables catégoriques\n",
    "    ]\n",
    ")"
   ]
  },
  {
   "cell_type": "code",
   "execution_count": 35,
   "id": "9620fd8d",
   "metadata": {
    "execution": {
     "iopub.execute_input": "2024-09-05T09:14:37.347188Z",
     "iopub.status.busy": "2024-09-05T09:14:37.346403Z",
     "iopub.status.idle": "2024-09-05T09:14:37.353418Z",
     "shell.execute_reply": "2024-09-05T09:14:37.352528Z"
    },
    "papermill": {
     "duration": 0.031283,
     "end_time": "2024-09-05T09:14:37.355695",
     "exception": false,
     "start_time": "2024-09-05T09:14:37.324412",
     "status": "completed"
    },
    "tags": []
   },
   "outputs": [],
   "source": [
    "pipeline = Pipeline(steps=[\n",
    "    ('preprocessing',preprocessing),\n",
    "    ('classifier',RandomForestClassifier(random_state=42))\n",
    "])"
   ]
  },
  {
   "cell_type": "code",
   "execution_count": 36,
   "id": "d4bb482e",
   "metadata": {
    "execution": {
     "iopub.execute_input": "2024-09-05T09:14:37.398415Z",
     "iopub.status.busy": "2024-09-05T09:14:37.397967Z",
     "iopub.status.idle": "2024-09-05T09:14:37.412565Z",
     "shell.execute_reply": "2024-09-05T09:14:37.411671Z"
    },
    "papermill": {
     "duration": 0.038988,
     "end_time": "2024-09-05T09:14:37.415044",
     "exception": false,
     "start_time": "2024-09-05T09:14:37.376056",
     "status": "completed"
    },
    "tags": []
   },
   "outputs": [],
   "source": [
    "X_train,X_test,y_train,y_test = train_test_split(features,target,test_size=0.2,random_state=42)"
   ]
  },
  {
   "cell_type": "code",
   "execution_count": 37,
   "id": "526b50ae",
   "metadata": {
    "execution": {
     "iopub.execute_input": "2024-09-05T09:14:37.458595Z",
     "iopub.status.busy": "2024-09-05T09:14:37.457780Z",
     "iopub.status.idle": "2024-09-05T09:15:16.934074Z",
     "shell.execute_reply": "2024-09-05T09:15:16.932947Z"
    },
    "papermill": {
     "duration": 39.522335,
     "end_time": "2024-09-05T09:15:16.957907",
     "exception": false,
     "start_time": "2024-09-05T09:14:37.435572",
     "status": "completed"
    },
    "tags": []
   },
   "outputs": [
    {
     "data": {
      "text/html": [
       "<style>#sk-container-id-1 {color: black;background-color: white;}#sk-container-id-1 pre{padding: 0;}#sk-container-id-1 div.sk-toggleable {background-color: white;}#sk-container-id-1 label.sk-toggleable__label {cursor: pointer;display: block;width: 100%;margin-bottom: 0;padding: 0.3em;box-sizing: border-box;text-align: center;}#sk-container-id-1 label.sk-toggleable__label-arrow:before {content: \"▸\";float: left;margin-right: 0.25em;color: #696969;}#sk-container-id-1 label.sk-toggleable__label-arrow:hover:before {color: black;}#sk-container-id-1 div.sk-estimator:hover label.sk-toggleable__label-arrow:before {color: black;}#sk-container-id-1 div.sk-toggleable__content {max-height: 0;max-width: 0;overflow: hidden;text-align: left;background-color: #f0f8ff;}#sk-container-id-1 div.sk-toggleable__content pre {margin: 0.2em;color: black;border-radius: 0.25em;background-color: #f0f8ff;}#sk-container-id-1 input.sk-toggleable__control:checked~div.sk-toggleable__content {max-height: 200px;max-width: 100%;overflow: auto;}#sk-container-id-1 input.sk-toggleable__control:checked~label.sk-toggleable__label-arrow:before {content: \"▾\";}#sk-container-id-1 div.sk-estimator input.sk-toggleable__control:checked~label.sk-toggleable__label {background-color: #d4ebff;}#sk-container-id-1 div.sk-label input.sk-toggleable__control:checked~label.sk-toggleable__label {background-color: #d4ebff;}#sk-container-id-1 input.sk-hidden--visually {border: 0;clip: rect(1px 1px 1px 1px);clip: rect(1px, 1px, 1px, 1px);height: 1px;margin: -1px;overflow: hidden;padding: 0;position: absolute;width: 1px;}#sk-container-id-1 div.sk-estimator {font-family: monospace;background-color: #f0f8ff;border: 1px dotted black;border-radius: 0.25em;box-sizing: border-box;margin-bottom: 0.5em;}#sk-container-id-1 div.sk-estimator:hover {background-color: #d4ebff;}#sk-container-id-1 div.sk-parallel-item::after {content: \"\";width: 100%;border-bottom: 1px solid gray;flex-grow: 1;}#sk-container-id-1 div.sk-label:hover label.sk-toggleable__label {background-color: #d4ebff;}#sk-container-id-1 div.sk-serial::before {content: \"\";position: absolute;border-left: 1px solid gray;box-sizing: border-box;top: 0;bottom: 0;left: 50%;z-index: 0;}#sk-container-id-1 div.sk-serial {display: flex;flex-direction: column;align-items: center;background-color: white;padding-right: 0.2em;padding-left: 0.2em;position: relative;}#sk-container-id-1 div.sk-item {position: relative;z-index: 1;}#sk-container-id-1 div.sk-parallel {display: flex;align-items: stretch;justify-content: center;background-color: white;position: relative;}#sk-container-id-1 div.sk-item::before, #sk-container-id-1 div.sk-parallel-item::before {content: \"\";position: absolute;border-left: 1px solid gray;box-sizing: border-box;top: 0;bottom: 0;left: 50%;z-index: -1;}#sk-container-id-1 div.sk-parallel-item {display: flex;flex-direction: column;z-index: 1;position: relative;background-color: white;}#sk-container-id-1 div.sk-parallel-item:first-child::after {align-self: flex-end;width: 50%;}#sk-container-id-1 div.sk-parallel-item:last-child::after {align-self: flex-start;width: 50%;}#sk-container-id-1 div.sk-parallel-item:only-child::after {width: 0;}#sk-container-id-1 div.sk-dashed-wrapped {border: 1px dashed gray;margin: 0 0.4em 0.5em 0.4em;box-sizing: border-box;padding-bottom: 0.4em;background-color: white;}#sk-container-id-1 div.sk-label label {font-family: monospace;font-weight: bold;display: inline-block;line-height: 1.2em;}#sk-container-id-1 div.sk-label-container {text-align: center;}#sk-container-id-1 div.sk-container {/* jupyter's `normalize.less` sets `[hidden] { display: none; }` but bootstrap.min.css set `[hidden] { display: none !important; }` so we also need the `!important` here to be able to override the default hidden behavior on the sphinx rendered scikit-learn.org. See: https://github.com/scikit-learn/scikit-learn/issues/21755 */display: inline-block !important;position: relative;}#sk-container-id-1 div.sk-text-repr-fallback {display: none;}</style><div id=\"sk-container-id-1\" class=\"sk-top-container\"><div class=\"sk-text-repr-fallback\"><pre>Pipeline(steps=[(&#x27;preprocessing&#x27;,\n",
       "                 ColumnTransformer(transformers=[(&#x27;tfidf&#x27;, TfidfVectorizer(),\n",
       "                                                  &#x27;comment&#x27;),\n",
       "                                                 (&#x27;onehot&#x27;, OneHotEncoder(),\n",
       "                                                  [&#x27;Race&#x27;, &#x27;Religion&#x27;, &#x27;Gender&#x27;,\n",
       "                                                   &#x27;Sexual Orientation&#x27;])])),\n",
       "                (&#x27;classifier&#x27;, RandomForestClassifier(random_state=42))])</pre><b>In a Jupyter environment, please rerun this cell to show the HTML representation or trust the notebook. <br />On GitHub, the HTML representation is unable to render, please try loading this page with nbviewer.org.</b></div><div class=\"sk-container\" hidden><div class=\"sk-item sk-dashed-wrapped\"><div class=\"sk-label-container\"><div class=\"sk-label sk-toggleable\"><input class=\"sk-toggleable__control sk-hidden--visually\" id=\"sk-estimator-id-1\" type=\"checkbox\" ><label for=\"sk-estimator-id-1\" class=\"sk-toggleable__label sk-toggleable__label-arrow\">Pipeline</label><div class=\"sk-toggleable__content\"><pre>Pipeline(steps=[(&#x27;preprocessing&#x27;,\n",
       "                 ColumnTransformer(transformers=[(&#x27;tfidf&#x27;, TfidfVectorizer(),\n",
       "                                                  &#x27;comment&#x27;),\n",
       "                                                 (&#x27;onehot&#x27;, OneHotEncoder(),\n",
       "                                                  [&#x27;Race&#x27;, &#x27;Religion&#x27;, &#x27;Gender&#x27;,\n",
       "                                                   &#x27;Sexual Orientation&#x27;])])),\n",
       "                (&#x27;classifier&#x27;, RandomForestClassifier(random_state=42))])</pre></div></div></div><div class=\"sk-serial\"><div class=\"sk-item sk-dashed-wrapped\"><div class=\"sk-label-container\"><div class=\"sk-label sk-toggleable\"><input class=\"sk-toggleable__control sk-hidden--visually\" id=\"sk-estimator-id-2\" type=\"checkbox\" ><label for=\"sk-estimator-id-2\" class=\"sk-toggleable__label sk-toggleable__label-arrow\">preprocessing: ColumnTransformer</label><div class=\"sk-toggleable__content\"><pre>ColumnTransformer(transformers=[(&#x27;tfidf&#x27;, TfidfVectorizer(), &#x27;comment&#x27;),\n",
       "                                (&#x27;onehot&#x27;, OneHotEncoder(),\n",
       "                                 [&#x27;Race&#x27;, &#x27;Religion&#x27;, &#x27;Gender&#x27;,\n",
       "                                  &#x27;Sexual Orientation&#x27;])])</pre></div></div></div><div class=\"sk-parallel\"><div class=\"sk-parallel-item\"><div class=\"sk-item\"><div class=\"sk-label-container\"><div class=\"sk-label sk-toggleable\"><input class=\"sk-toggleable__control sk-hidden--visually\" id=\"sk-estimator-id-3\" type=\"checkbox\" ><label for=\"sk-estimator-id-3\" class=\"sk-toggleable__label sk-toggleable__label-arrow\">tfidf</label><div class=\"sk-toggleable__content\"><pre>comment</pre></div></div></div><div class=\"sk-serial\"><div class=\"sk-item\"><div class=\"sk-estimator sk-toggleable\"><input class=\"sk-toggleable__control sk-hidden--visually\" id=\"sk-estimator-id-4\" type=\"checkbox\" ><label for=\"sk-estimator-id-4\" class=\"sk-toggleable__label sk-toggleable__label-arrow\">TfidfVectorizer</label><div class=\"sk-toggleable__content\"><pre>TfidfVectorizer()</pre></div></div></div></div></div></div><div class=\"sk-parallel-item\"><div class=\"sk-item\"><div class=\"sk-label-container\"><div class=\"sk-label sk-toggleable\"><input class=\"sk-toggleable__control sk-hidden--visually\" id=\"sk-estimator-id-5\" type=\"checkbox\" ><label for=\"sk-estimator-id-5\" class=\"sk-toggleable__label sk-toggleable__label-arrow\">onehot</label><div class=\"sk-toggleable__content\"><pre>[&#x27;Race&#x27;, &#x27;Religion&#x27;, &#x27;Gender&#x27;, &#x27;Sexual Orientation&#x27;]</pre></div></div></div><div class=\"sk-serial\"><div class=\"sk-item\"><div class=\"sk-estimator sk-toggleable\"><input class=\"sk-toggleable__control sk-hidden--visually\" id=\"sk-estimator-id-6\" type=\"checkbox\" ><label for=\"sk-estimator-id-6\" class=\"sk-toggleable__label sk-toggleable__label-arrow\">OneHotEncoder</label><div class=\"sk-toggleable__content\"><pre>OneHotEncoder()</pre></div></div></div></div></div></div></div></div><div class=\"sk-item\"><div class=\"sk-estimator sk-toggleable\"><input class=\"sk-toggleable__control sk-hidden--visually\" id=\"sk-estimator-id-7\" type=\"checkbox\" ><label for=\"sk-estimator-id-7\" class=\"sk-toggleable__label sk-toggleable__label-arrow\">RandomForestClassifier</label><div class=\"sk-toggleable__content\"><pre>RandomForestClassifier(random_state=42)</pre></div></div></div></div></div></div></div>"
      ],
      "text/plain": [
       "Pipeline(steps=[('preprocessing',\n",
       "                 ColumnTransformer(transformers=[('tfidf', TfidfVectorizer(),\n",
       "                                                  'comment'),\n",
       "                                                 ('onehot', OneHotEncoder(),\n",
       "                                                  ['Race', 'Religion', 'Gender',\n",
       "                                                   'Sexual Orientation'])])),\n",
       "                ('classifier', RandomForestClassifier(random_state=42))])"
      ]
     },
     "execution_count": 37,
     "metadata": {},
     "output_type": "execute_result"
    }
   ],
   "source": [
    "pipeline.fit(X_train,y_train)"
   ]
  },
  {
   "cell_type": "code",
   "execution_count": 38,
   "id": "b63bcb31",
   "metadata": {
    "execution": {
     "iopub.execute_input": "2024-09-05T09:15:17.002090Z",
     "iopub.status.busy": "2024-09-05T09:15:17.001639Z",
     "iopub.status.idle": "2024-09-05T09:15:17.447288Z",
     "shell.execute_reply": "2024-09-05T09:15:17.446062Z"
    },
    "papermill": {
     "duration": 0.471055,
     "end_time": "2024-09-05T09:15:17.450145",
     "exception": false,
     "start_time": "2024-09-05T09:15:16.979090",
     "status": "completed"
    },
    "tags": []
   },
   "outputs": [],
   "source": [
    "predictions = pipeline.predict(X_test)"
   ]
  },
  {
   "cell_type": "code",
   "execution_count": 39,
   "id": "854ac817",
   "metadata": {
    "execution": {
     "iopub.execute_input": "2024-09-05T09:15:17.495790Z",
     "iopub.status.busy": "2024-09-05T09:15:17.495031Z",
     "iopub.status.idle": "2024-09-05T09:15:17.502894Z",
     "shell.execute_reply": "2024-09-05T09:15:17.501719Z"
    },
    "papermill": {
     "duration": 0.033169,
     "end_time": "2024-09-05T09:15:17.505275",
     "exception": false,
     "start_time": "2024-09-05T09:15:17.472106",
     "status": "completed"
    },
    "tags": []
   },
   "outputs": [],
   "source": [
    "from sklearn.metrics import *\n",
    "def compute_metrics(y_true,predictions):\n",
    "    \"\"\"\n",
    "    accuracy = accuracy_score(y_true,predictions)\n",
    "    recall = recall_score(y_true,predictions)\n",
    "    f1score = f1_score(y_true,predictions)\n",
    "    precision = precision_score(y_true,predictions)\n",
    "    \"\"\"\n",
    "    cr = classification_report(y_true,predictions)\n",
    "    print(cr)\n",
    "    \n",
    "    cm = confusion_matrix(y_true,predictions)\n",
    "    confusion_matrix_display =  ConfusionMatrixDisplay(confusion_matrix=cm, display_labels=pipeline.classes_)\n",
    "    confusion_matrix_display.plot()\n",
    "    \"\"\"\n",
    "    metrics = {\n",
    "        'accuracy':accuracy,\n",
    "        'recall':recall,\n",
    "        'f1_score':f1score,\n",
    "        'precision':precision\n",
    "    }\n",
    "    \"\"\"\n",
    "    #return metrics"
   ]
  },
  {
   "cell_type": "code",
   "execution_count": 40,
   "id": "aecb7083",
   "metadata": {
    "execution": {
     "iopub.execute_input": "2024-09-05T09:15:17.549649Z",
     "iopub.status.busy": "2024-09-05T09:15:17.548886Z",
     "iopub.status.idle": "2024-09-05T09:15:18.157130Z",
     "shell.execute_reply": "2024-09-05T09:15:18.155976Z"
    },
    "papermill": {
     "duration": 0.633434,
     "end_time": "2024-09-05T09:15:18.159961",
     "exception": false,
     "start_time": "2024-09-05T09:15:17.526527",
     "status": "completed"
    },
    "tags": []
   },
   "outputs": [
    {
     "name": "stdout",
     "output_type": "stream",
     "text": [
      "              precision    recall  f1-score   support\n",
      "\n",
      "  hatespeech       0.72      0.80      0.76      1325\n",
      "      normal       0.77      0.83      0.80      1502\n",
      "   offensive       0.61      0.48      0.54      1195\n",
      "\n",
      "    accuracy                           0.72      4022\n",
      "   macro avg       0.70      0.71      0.70      4022\n",
      "weighted avg       0.71      0.72      0.71      4022\n",
      "\n"
     ]
    },
    {
     "data": {
      "image/png": "[encoded data removed]",
      "text/plain": [
       "<Figure size 640x480 with 2 Axes>"
      ]
     },
     "metadata": {},
     "output_type": "display_data"
    }
   ],
   "source": [
    "compute_metrics(y_test,predictions)"
   ]
  },
  {
   "cell_type": "code",
   "execution_count": 41,
   "id": "e858e961",
   "metadata": {
    "execution": {
     "iopub.execute_input": "2024-09-05T09:15:18.206373Z",
     "iopub.status.busy": "2024-09-05T09:15:18.205930Z",
     "iopub.status.idle": "2024-09-05T09:16:48.606944Z",
     "shell.execute_reply": "2024-09-05T09:16:48.605784Z"
    },
    "papermill": {
     "duration": 90.44974,
     "end_time": "2024-09-05T09:16:48.631828",
     "exception": false,
     "start_time": "2024-09-05T09:15:18.182088",
     "status": "completed"
    },
    "tags": []
   },
   "outputs": [
    {
     "name": "stderr",
     "output_type": "stream",
     "text": [
      "/opt/conda/lib/python3.10/site-packages/sklearn/model_selection/_validation.py:794: UserWarning: Scoring failed. The score on this train-test partition for these parameters will be set to nan. Details: \n",
      "Traceback (most recent call last):\n",
      "  File \"/opt/conda/lib/python3.10/site-packages/sklearn/metrics/_scorer.py\", line 117, in __call__\n",
      "    score = scorer(estimator, *args, **kwargs)\n",
      "  File \"/opt/conda/lib/python3.10/site-packages/sklearn/metrics/_scorer.py\", line 444, in _passthrough_scorer\n",
      "    return estimator.score(*args, **kwargs)\n",
      "  File \"/opt/conda/lib/python3.10/site-packages/sklearn/pipeline.py\", line 718, in score\n",
      "    Xt = transform.transform(Xt)\n",
      "  File \"/opt/conda/lib/python3.10/site-packages/sklearn/utils/_set_output.py\", line 140, in wrapped\n",
      "    data_to_wrap = f(self, X, *args, **kwargs)\n",
      "  File \"/opt/conda/lib/python3.10/site-packages/sklearn/compose/_column_transformer.py\", line 800, in transform\n",
      "    Xs = self._fit_transform(\n",
      "  File \"/opt/conda/lib/python3.10/site-packages/sklearn/compose/_column_transformer.py\", line 658, in _fit_transform\n",
      "    return Parallel(n_jobs=self.n_jobs)(\n",
      "  File \"/opt/conda/lib/python3.10/site-packages/sklearn/utils/parallel.py\", line 63, in __call__\n",
      "    return super().__call__(iterable_with_config)\n",
      "  File \"/opt/conda/lib/python3.10/site-packages/joblib/parallel.py\", line 1918, in __call__\n",
      "    return output if self.return_generator else list(output)\n",
      "  File \"/opt/conda/lib/python3.10/site-packages/joblib/parallel.py\", line 1847, in _get_sequential_output\n",
      "    res = func(*args, **kwargs)\n",
      "  File \"/opt/conda/lib/python3.10/site-packages/sklearn/utils/parallel.py\", line 123, in __call__\n",
      "    return self.function(*args, **kwargs)\n",
      "  File \"/opt/conda/lib/python3.10/site-packages/sklearn/pipeline.py\", line 876, in _transform_one\n",
      "    res = transformer.transform(X)\n",
      "  File \"/opt/conda/lib/python3.10/site-packages/sklearn/utils/_set_output.py\", line 140, in wrapped\n",
      "    data_to_wrap = f(self, X, *args, **kwargs)\n",
      "  File \"/opt/conda/lib/python3.10/site-packages/sklearn/preprocessing/_encoders.py\", line 917, in transform\n",
      "    X_int, X_mask = self._transform(\n",
      "  File \"/opt/conda/lib/python3.10/site-packages/sklearn/preprocessing/_encoders.py\", line 174, in _transform\n",
      "    raise ValueError(msg)\n",
      "ValueError: Found unknown categories ['Bisexual'] in column 3 during transform\n",
      "\n",
      "  warnings.warn(\n"
     ]
    }
   ],
   "source": [
    "score = cross_val_score(pipeline, features, target, cv=3)"
   ]
  },
  {
   "cell_type": "code",
   "execution_count": 42,
   "id": "e0ea2b25",
   "metadata": {
    "execution": {
     "iopub.execute_input": "2024-09-05T09:16:48.677699Z",
     "iopub.status.busy": "2024-09-05T09:16:48.677220Z",
     "iopub.status.idle": "2024-09-05T09:16:48.683748Z",
     "shell.execute_reply": "2024-09-05T09:16:48.682571Z"
    },
    "papermill": {
     "duration": 0.032248,
     "end_time": "2024-09-05T09:16:48.686123",
     "exception": false,
     "start_time": "2024-09-05T09:16:48.653875",
     "status": "completed"
    },
    "tags": []
   },
   "outputs": [
    {
     "name": "stdout",
     "output_type": "stream",
     "text": [
      "[0.70535581 0.71564971        nan]\n"
     ]
    }
   ],
   "source": [
    "print(score)"
   ]
  },
  {
   "cell_type": "markdown",
   "id": "7a9cfe57",
   "metadata": {
    "papermill": {
     "duration": 0.022303,
     "end_time": "2024-09-05T09:16:48.731475",
     "exception": false,
     "start_time": "2024-09-05T09:16:48.709172",
     "status": "completed"
    },
    "tags": []
   },
   "source": [
    "# "
   ]
  }
 ],
 "metadata": {
  "kaggle": {
   "accelerator": "none",
   "dataSources": [
    {
     "datasetId": 5434643,
     "sourceId": 9018821,
     "sourceType": "datasetVersion"
    }
   ],
   "dockerImageVersionId": 30761,
   "isGpuEnabled": false,
   "isInternetEnabled": true,
   "language": "python",
   "sourceType": "notebook"
  },
  "kernelspec": {
   "display_name": "Python 3",
   "language": "python",
   "name": "python3"
  },
  "language_info": {
   "codemirror_mode": {
    "name": "ipython",
    "version": 3
   },
   "file_extension": ".py",
   "mimetype": "text/x-python",
   "name": "python",
   "nbconvert_exporter": "python",
   "pygments_lexer": "ipython3",
   "version": "3.10.14"
  },
  "papermill": {
   "default_parameters": {},
   "duration": 179.60178,
   "end_time": "2024-09-05T09:16:51.800462",
   "environment_variables": {},
   "exception": null,
   "input_path": "__notebook__.ipynb",
   "output_path": "__notebook__.ipynb",
   "parameters": {},
   "start_time": "2024-09-05T09:13:52.198682",
   "version": "2.6.0"
  }
 },
 "nbformat": 4,
 "nbformat_minor": 5
}
